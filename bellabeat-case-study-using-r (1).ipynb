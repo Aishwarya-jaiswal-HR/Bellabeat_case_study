{
 "cells": [
  {
   "cell_type": "markdown",
   "metadata": {},
   "source": [
    "# Introduction \n",
    "\n",
    "### Company's Background\n",
    "Founded in 2013, Bellabeat creates beautifully designed, health-focused smart products. The company collects data on activity, sleep, stress, and reproductive health to empower women with health insights. Rapid growth has positioned Bellabeat as a leading tech-driven wellness company for women, with a strong digital marketing presence and global offices.\n",
    "\n",
    "### Bellabeat's Goal\n",
    "Bellabeat enables women with health and habit insights through data collected from their smart devices.\n",
    "\n",
    "### Business Task\n",
    "Analyze current smart device usage data to uncover consumer behaviors and trends, and use these insights to recommend high-level marketing strategy.\n",
    "\n",
    "### Stakeholders\n",
    "#### Primary\n",
    "* Urška Sršen (Co-founder & Chief Creative Officer): Sršen is keen on leveraging smart device data to unlock new growth opportunities and to guide the marketing strategy\n",
    "\n",
    "* Sando Mur (Co-founder & CEO): Responsible for strategy, finance and growth\n",
    "\n",
    "* Marketing Analytics team: Responsible for collecting, analysing, and reporting data that help craft effective marketing strategies and improve campaign performance.\n",
    "\n",
    "#### Secondary\n",
    "Customers: Expecting high-quality, user-friendly products that provide valuable health insights"
   ]
  },
  {
   "cell_type": "markdown",
   "metadata": {},
   "source": [
    "# Data Analysis Process\n",
    "## Task 1: Ask\n",
    "### Define the business problem and the questions needed to answer\n",
    "  \n",
    " #### Three key questions are:  \n",
    "1. What are some trends in smart device usage?\n",
    "2. How could these trends apply to Bellabeat customers?\n",
    "3. How could these trends help influence Bellabeat marketing strategy?"
   ]
  },
  {
   "cell_type": "markdown",
   "metadata": {},
   "source": [
    "## Task 2: Prepare (Collect and prepare the data for analysis)\n",
    "\n",
    "### Data Source\n",
    "The data used for this analysis is Fitbit fitness Tracker data. It is a public data available on Kaggle.\n",
    "\n",
    "### Data Description\n",
    "The data in these datasets was collected from participants who responded to a survey distributed through Amazon Mechanical Turk between December 3, 2016, and December 5, 2016. Thirty Fitbit users who met the eligibility criteria agreed to submit their personal tracker data, which includes minute-by-minute records of physical activity, heart rate, and sleep patterns.\n",
    "\n",
    "### ROCCC method\n",
    "To ensure the quality and reliability of the data, I will be using the ROCCC evalution method, which stands for Reliable, Original, Comprehensive, Current, and Cited.\n",
    "\n",
    "**R**: Provided by one of the co-founder, available on Kaggle by Möbius with 2275 upvotes and 140K downloads, CC0- Public Domain\n",
    "\n",
    "**O**: Dataset source https://zenodo.org/record/53894#.X9oeh3Uzaao, it is a credible published study\n",
    "\n",
    "**C**: The data appears complete, covering a wide range of activity metrics. Moreover, the device model of Fitbit is similar to Bellabeat’s product, which means the findings can be reasonably extrapolated to Bellabeat users.\n",
    "\n",
    "**C**: Dataset is 8 years old and was last updated 4 months ago, so it can be said that the data is moderately out of date but still can provide helpful insights.\n",
    "\n",
    "**C**: Data is cited on kaggale and the source citation is as follows:-\n",
    "\n",
    "   Furberg, R., Brinton, J., Keating, M., & Ortiz, A. (2016). Crowd-sourced Fitbit datasets                      03.12.2016-05.12.2016 [Data set]. Zenodo. https://doi.org/10.5281/zenodo.53894\n",
    "   \n",
    "### Limitations\n",
    "The sample size of the study is small it only contains 30 users. It is also not possible to ascertain whether the data is representative or biased because there is no detailed demographic information about the users such as age, gender and location."
   ]
  },
  {
   "cell_type": "markdown",
   "metadata": {},
   "source": [
    "## Task 3: Process\n",
    "\n",
    "#### Let's begin with installing and loading necessary packages"
   ]
  },
  {
   "cell_type": "code",
   "execution_count": 1,
   "metadata": {},
   "outputs": [
    {
     "name": "stderr",
     "output_type": "stream",
     "text": [
      "Installing package into 'C:/Users/91858/AppData/Local/R/win-library/4.4'\n",
      "(as 'lib' is unspecified)\n",
      "\n"
     ]
    },
    {
     "name": "stdout",
     "output_type": "stream",
     "text": [
      "package 'tidyverse' successfully unpacked and MD5 sums checked\n",
      "\n",
      "The downloaded binary packages are in\n",
      "\tC:\\Users\\91858\\AppData\\Local\\Temp\\Rtmp4EtKby\\downloaded_packages\n"
     ]
    },
    {
     "name": "stderr",
     "output_type": "stream",
     "text": [
      "Installing package into 'C:/Users/91858/AppData/Local/R/win-library/4.4'\n",
      "(as 'lib' is unspecified)\n",
      "\n"
     ]
    },
    {
     "name": "stdout",
     "output_type": "stream",
     "text": [
      "package 'dplyr' successfully unpacked and MD5 sums checked\n",
      "\n",
      "The downloaded binary packages are in\n",
      "\tC:\\Users\\91858\\AppData\\Local\\Temp\\Rtmp4EtKby\\downloaded_packages\n"
     ]
    },
    {
     "name": "stderr",
     "output_type": "stream",
     "text": [
      "Installing package into 'C:/Users/91858/AppData/Local/R/win-library/4.4'\n",
      "(as 'lib' is unspecified)\n",
      "\n"
     ]
    },
    {
     "name": "stdout",
     "output_type": "stream",
     "text": [
      "package 'tidyr' successfully unpacked and MD5 sums checked\n",
      "\n",
      "The downloaded binary packages are in\n",
      "\tC:\\Users\\91858\\AppData\\Local\\Temp\\Rtmp4EtKby\\downloaded_packages\n"
     ]
    },
    {
     "name": "stderr",
     "output_type": "stream",
     "text": [
      "Installing package into 'C:/Users/91858/AppData/Local/R/win-library/4.4'\n",
      "(as 'lib' is unspecified)\n",
      "\n"
     ]
    },
    {
     "name": "stdout",
     "output_type": "stream",
     "text": [
      "package 'lubridate' successfully unpacked and MD5 sums checked\n",
      "\n",
      "The downloaded binary packages are in\n",
      "\tC:\\Users\\91858\\AppData\\Local\\Temp\\Rtmp4EtKby\\downloaded_packages\n"
     ]
    },
    {
     "name": "stderr",
     "output_type": "stream",
     "text": [
      "Installing package into 'C:/Users/91858/AppData/Local/R/win-library/4.4'\n",
      "(as 'lib' is unspecified)\n",
      "\n"
     ]
    },
    {
     "name": "stdout",
     "output_type": "stream",
     "text": [
      "package 'here' successfully unpacked and MD5 sums checked\n",
      "\n",
      "The downloaded binary packages are in\n",
      "\tC:\\Users\\91858\\AppData\\Local\\Temp\\Rtmp4EtKby\\downloaded_packages\n"
     ]
    },
    {
     "name": "stderr",
     "output_type": "stream",
     "text": [
      "Installing package into 'C:/Users/91858/AppData/Local/R/win-library/4.4'\n",
      "(as 'lib' is unspecified)\n",
      "\n"
     ]
    },
    {
     "name": "stdout",
     "output_type": "stream",
     "text": [
      "package 'skimr' successfully unpacked and MD5 sums checked\n",
      "\n",
      "The downloaded binary packages are in\n",
      "\tC:\\Users\\91858\\AppData\\Local\\Temp\\Rtmp4EtKby\\downloaded_packages\n"
     ]
    },
    {
     "name": "stderr",
     "output_type": "stream",
     "text": [
      "Installing package into 'C:/Users/91858/AppData/Local/R/win-library/4.4'\n",
      "(as 'lib' is unspecified)\n",
      "\n"
     ]
    },
    {
     "name": "stdout",
     "output_type": "stream",
     "text": [
      "package 'janitor' successfully unpacked and MD5 sums checked\n",
      "\n",
      "The downloaded binary packages are in\n",
      "\tC:\\Users\\91858\\AppData\\Local\\Temp\\Rtmp4EtKby\\downloaded_packages\n"
     ]
    },
    {
     "name": "stderr",
     "output_type": "stream",
     "text": [
      "Installing package into 'C:/Users/91858/AppData/Local/R/win-library/4.4'\n",
      "(as 'lib' is unspecified)\n",
      "\n"
     ]
    },
    {
     "name": "stdout",
     "output_type": "stream",
     "text": [
      "package 'ggplot2' successfully unpacked and MD5 sums checked\n",
      "\n",
      "The downloaded binary packages are in\n",
      "\tC:\\Users\\91858\\AppData\\Local\\Temp\\Rtmp4EtKby\\downloaded_packages\n"
     ]
    }
   ],
   "source": [
    "install.packages(\"tidyverse\") #A collection of packages for data science\n",
    "install.packages(\"dplyr\") #data manipulation, filtering, selecting, arranging, transforming\n",
    "install.packages(\"tidyr\") #simplifies the process of tidying data\n",
    "install.packages(\"lubridate\") #for date-time parsing\n",
    "install.packages(\"here\") #for easy file referencing\n",
    "install.packages(\"skimr\") #for data summarization, quick overview\n",
    "install.packages(\"janitor\") #for data cleaning, naming consistency, table formatting\n",
    "install.packages(\"ggplot2\") # For data visualization, plotting, aesthetics"
   ]
  },
  {
   "cell_type": "code",
   "execution_count": 4,
   "metadata": {},
   "outputs": [
    {
     "name": "stderr",
     "output_type": "stream",
     "text": [
      "Installing package into 'C:/Users/91858/AppData/Local/R/win-library/4.4'\n",
      "(as 'lib' is unspecified)\n",
      "\n"
     ]
    },
    {
     "name": "stdout",
     "output_type": "stream",
     "text": [
      "package 'knitr' successfully unpacked and MD5 sums checked\n",
      "\n",
      "The downloaded binary packages are in\n",
      "\tC:\\Users\\91858\\AppData\\Local\\Temp\\Rtmp4EtKby\\downloaded_packages\n"
     ]
    }
   ],
   "source": [
    "install.packages(\"knitr\")"
   ]
  },
  {
   "cell_type": "code",
   "execution_count": 5,
   "metadata": {},
   "outputs": [],
   "source": [
    "library(knitr)"
   ]
  },
  {
   "cell_type": "code",
   "execution_count": 2,
   "metadata": {},
   "outputs": [
    {
     "name": "stderr",
     "output_type": "stream",
     "text": [
      "── \u001b[1mAttaching core tidyverse packages\u001b[22m ──────────────────────────────────────────────────────────────── tidyverse 2.0.0 ──\n",
      "\u001b[32m✔\u001b[39m \u001b[34mdplyr    \u001b[39m 1.1.4     \u001b[32m✔\u001b[39m \u001b[34mreadr    \u001b[39m 2.1.5\n",
      "\u001b[32m✔\u001b[39m \u001b[34mforcats  \u001b[39m 1.0.0     \u001b[32m✔\u001b[39m \u001b[34mstringr  \u001b[39m 1.5.1\n",
      "\u001b[32m✔\u001b[39m \u001b[34mggplot2  \u001b[39m 3.5.1     \u001b[32m✔\u001b[39m \u001b[34mtibble   \u001b[39m 3.2.1\n",
      "\u001b[32m✔\u001b[39m \u001b[34mlubridate\u001b[39m 1.9.3     \u001b[32m✔\u001b[39m \u001b[34mtidyr    \u001b[39m 1.3.1\n",
      "\u001b[32m✔\u001b[39m \u001b[34mpurrr    \u001b[39m 1.0.2     \n",
      "── \u001b[1mConflicts\u001b[22m ────────────────────────────────────────────────────────────────────────────────── tidyverse_conflicts() ──\n",
      "\u001b[31m✖\u001b[39m \u001b[34mdplyr\u001b[39m::\u001b[32mfilter()\u001b[39m masks \u001b[34mstats\u001b[39m::filter()\n",
      "\u001b[31m✖\u001b[39m \u001b[34mdplyr\u001b[39m::\u001b[32mlag()\u001b[39m    masks \u001b[34mstats\u001b[39m::lag()\n",
      "\u001b[36mℹ\u001b[39m Use the conflicted package (\u001b[3m\u001b[34m<http://conflicted.r-lib.org/>\u001b[39m\u001b[23m) to force all conflicts to become errors\n",
      "here() starts at C:/Users/91858/Downloads\n",
      "\n",
      "\n",
      "Attaching package: 'janitor'\n",
      "\n",
      "\n",
      "The following objects are masked from 'package:stats':\n",
      "\n",
      "    chisq.test, fisher.test\n",
      "\n",
      "\n"
     ]
    },
    {
     "ename": "ERROR",
     "evalue": "Error in library(patchwork): there is no package called 'patchwork'\n",
     "output_type": "error",
     "traceback": [
      "Error in library(patchwork): there is no package called 'patchwork'\nTraceback:\n",
      "1. library(patchwork)"
     ]
    }
   ],
   "source": [
    "#Next step is to load the packages\n",
    "\n",
    "library(tidyverse)\n",
    "library(dplyr)\n",
    "library(tidyr)\n",
    "library(lubridate)\n",
    "library(here)\n",
    "library(skimr)\n",
    "library(janitor)\n",
    "library(ggplot2)\n",
    "library(patchwork) #for combining visualization \n",
    "library(RColorBrewer) #for color palettes\n",
    "library(knitr) #for table formatting"
   ]
  },
  {
   "cell_type": "code",
   "execution_count": 6,
   "metadata": {},
   "outputs": [
    {
     "name": "stderr",
     "output_type": "stream",
     "text": [
      "\u001b[1mRows: \u001b[22m\u001b[34m940\u001b[39m \u001b[1mColumns: \u001b[22m\u001b[34m15\u001b[39m\n",
      "\u001b[36m──\u001b[39m \u001b[1mColumn specification\u001b[22m \u001b[36m────────────────────────────────────────────────────────────────────────────────────────────────\u001b[39m\n",
      "\u001b[1mDelimiter:\u001b[22m \",\"\n",
      "\u001b[31mchr\u001b[39m  (1): ActivityDate\n",
      "\u001b[32mdbl\u001b[39m (14): Id, TotalSteps, TotalDistance, TrackerDistance, LoggedActivitiesDi...\n",
      "\n",
      "\u001b[36mℹ\u001b[39m Use `spec()` to retrieve the full column specification for this data.\n",
      "\u001b[36mℹ\u001b[39m Specify the column types or set `show_col_types = FALSE` to quiet this message.\n",
      "\u001b[1mRows: \u001b[22m\u001b[34m940\u001b[39m \u001b[1mColumns: \u001b[22m\u001b[34m3\u001b[39m\n",
      "\u001b[36m──\u001b[39m \u001b[1mColumn specification\u001b[22m \u001b[36m────────────────────────────────────────────────────────────────────────────────────────────────\u001b[39m\n",
      "\u001b[1mDelimiter:\u001b[22m \",\"\n",
      "\u001b[31mchr\u001b[39m (1): ActivityDay\n",
      "\u001b[32mdbl\u001b[39m (2): Id, StepTotal\n",
      "\n",
      "\u001b[36mℹ\u001b[39m Use `spec()` to retrieve the full column specification for this data.\n",
      "\u001b[36mℹ\u001b[39m Specify the column types or set `show_col_types = FALSE` to quiet this message.\n",
      "\u001b[1mRows: \u001b[22m\u001b[34m940\u001b[39m \u001b[1mColumns: \u001b[22m\u001b[34m3\u001b[39m\n",
      "\u001b[36m──\u001b[39m \u001b[1mColumn specification\u001b[22m \u001b[36m────────────────────────────────────────────────────────────────────────────────────────────────\u001b[39m\n",
      "\u001b[1mDelimiter:\u001b[22m \",\"\n",
      "\u001b[31mchr\u001b[39m (1): ActivityDay\n",
      "\u001b[32mdbl\u001b[39m (2): Id, Calories\n",
      "\n",
      "\u001b[36mℹ\u001b[39m Use `spec()` to retrieve the full column specification for this data.\n",
      "\u001b[36mℹ\u001b[39m Specify the column types or set `show_col_types = FALSE` to quiet this message.\n",
      "\u001b[1mRows: \u001b[22m\u001b[34m940\u001b[39m \u001b[1mColumns: \u001b[22m\u001b[34m10\u001b[39m\n",
      "\u001b[36m──\u001b[39m \u001b[1mColumn specification\u001b[22m \u001b[36m────────────────────────────────────────────────────────────────────────────────────────────────\u001b[39m\n",
      "\u001b[1mDelimiter:\u001b[22m \",\"\n",
      "\u001b[31mchr\u001b[39m (1): ActivityDay\n",
      "\u001b[32mdbl\u001b[39m (9): Id, SedentaryMinutes, LightlyActiveMinutes, FairlyActiveMinutes, Ve...\n",
      "\n",
      "\u001b[36mℹ\u001b[39m Use `spec()` to retrieve the full column specification for this data.\n",
      "\u001b[36mℹ\u001b[39m Specify the column types or set `show_col_types = FALSE` to quiet this message.\n",
      "\u001b[1mRows: \u001b[22m\u001b[34m413\u001b[39m \u001b[1mColumns: \u001b[22m\u001b[34m5\u001b[39m\n",
      "\u001b[36m──\u001b[39m \u001b[1mColumn specification\u001b[22m \u001b[36m────────────────────────────────────────────────────────────────────────────────────────────────\u001b[39m\n",
      "\u001b[1mDelimiter:\u001b[22m \",\"\n",
      "\u001b[31mchr\u001b[39m (1): SleepDay\n",
      "\u001b[32mdbl\u001b[39m (4): Id, TotalSleepRecords, TotalMinutesAsleep, TotalTimeInBed\n",
      "\n",
      "\u001b[36mℹ\u001b[39m Use `spec()` to retrieve the full column specification for this data.\n",
      "\u001b[36mℹ\u001b[39m Specify the column types or set `show_col_types = FALSE` to quiet this message.\n"
     ]
    }
   ],
   "source": [
    "# Read files to start the analysis process \n",
    "\n",
    "daily_activity <- read_csv(\"C:/Users/91858/Downloads/kaggle data/dailyActivity_merged.csv\")\n",
    "daily_steps <- read_csv(\"C:/Users/91858/Downloads/kaggle data/dailySteps_merged.csv\")\n",
    "daily_cal <- read_csv(\"C:/Users/91858/Downloads/kaggle data/dailyCalories_merged.csv\")\n",
    "daily_ints <- read_csv(\"C:/Users/91858/Downloads/kaggle data/dailyIntensities_merged.csv\")\n",
    "daily_sleep <- read_csv(\"C:/Users/91858/Downloads/kaggle data/sleepDay_merged.csv\")"
   ]
  },
  {
   "cell_type": "markdown",
   "metadata": {},
   "source": [
    "#### Data Familiarisation\n",
    "\n",
    "Next I familarised myself with each data using head(), tail(), str(), skim_without_charts() functions. Below I have shown in detail only for daily_activity dataset."
   ]
  },
  {
   "cell_type": "code",
   "execution_count": 7,
   "metadata": {},
   "outputs": [
    {
     "data": {
      "text/html": [
       "<table class=\"dataframe\">\n",
       "<caption>A tibble: 20 × 15</caption>\n",
       "<thead>\n",
       "\t<tr><th scope=col>Id</th><th scope=col>ActivityDate</th><th scope=col>TotalSteps</th><th scope=col>TotalDistance</th><th scope=col>TrackerDistance</th><th scope=col>LoggedActivitiesDistance</th><th scope=col>VeryActiveDistance</th><th scope=col>ModeratelyActiveDistance</th><th scope=col>LightActiveDistance</th><th scope=col>SedentaryActiveDistance</th><th scope=col>VeryActiveMinutes</th><th scope=col>FairlyActiveMinutes</th><th scope=col>LightlyActiveMinutes</th><th scope=col>SedentaryMinutes</th><th scope=col>Calories</th></tr>\n",
       "\t<tr><th scope=col>&lt;dbl&gt;</th><th scope=col>&lt;chr&gt;</th><th scope=col>&lt;dbl&gt;</th><th scope=col>&lt;dbl&gt;</th><th scope=col>&lt;dbl&gt;</th><th scope=col>&lt;dbl&gt;</th><th scope=col>&lt;dbl&gt;</th><th scope=col>&lt;dbl&gt;</th><th scope=col>&lt;dbl&gt;</th><th scope=col>&lt;dbl&gt;</th><th scope=col>&lt;dbl&gt;</th><th scope=col>&lt;dbl&gt;</th><th scope=col>&lt;dbl&gt;</th><th scope=col>&lt;dbl&gt;</th><th scope=col>&lt;dbl&gt;</th></tr>\n",
       "</thead>\n",
       "<tbody>\n",
       "\t<tr><td>1503960366</td><td>4/12/2016</td><td>13162</td><td> 8.50</td><td> 8.50</td><td>0</td><td>1.88</td><td>0.55</td><td>6.06</td><td>0</td><td>25</td><td>13</td><td>328</td><td> 728</td><td>1985</td></tr>\n",
       "\t<tr><td>1503960366</td><td>4/13/2016</td><td>10735</td><td> 6.97</td><td> 6.97</td><td>0</td><td>1.57</td><td>0.69</td><td>4.71</td><td>0</td><td>21</td><td>19</td><td>217</td><td> 776</td><td>1797</td></tr>\n",
       "\t<tr><td>1503960366</td><td>4/14/2016</td><td>10460</td><td> 6.74</td><td> 6.74</td><td>0</td><td>2.44</td><td>0.40</td><td>3.91</td><td>0</td><td>30</td><td>11</td><td>181</td><td>1218</td><td>1776</td></tr>\n",
       "\t<tr><td>1503960366</td><td>4/15/2016</td><td> 9762</td><td> 6.28</td><td> 6.28</td><td>0</td><td>2.14</td><td>1.26</td><td>2.83</td><td>0</td><td>29</td><td>34</td><td>209</td><td> 726</td><td>1745</td></tr>\n",
       "\t<tr><td>1503960366</td><td>4/16/2016</td><td>12669</td><td> 8.16</td><td> 8.16</td><td>0</td><td>2.71</td><td>0.41</td><td>5.04</td><td>0</td><td>36</td><td>10</td><td>221</td><td> 773</td><td>1863</td></tr>\n",
       "\t<tr><td>1503960366</td><td>4/17/2016</td><td> 9705</td><td> 6.48</td><td> 6.48</td><td>0</td><td>3.19</td><td>0.78</td><td>2.51</td><td>0</td><td>38</td><td>20</td><td>164</td><td> 539</td><td>1728</td></tr>\n",
       "\t<tr><td>1503960366</td><td>4/18/2016</td><td>13019</td><td> 8.59</td><td> 8.59</td><td>0</td><td>3.25</td><td>0.64</td><td>4.71</td><td>0</td><td>42</td><td>16</td><td>233</td><td>1149</td><td>1921</td></tr>\n",
       "\t<tr><td>1503960366</td><td>4/19/2016</td><td>15506</td><td> 9.88</td><td> 9.88</td><td>0</td><td>3.53</td><td>1.32</td><td>5.03</td><td>0</td><td>50</td><td>31</td><td>264</td><td> 775</td><td>2035</td></tr>\n",
       "\t<tr><td>1503960366</td><td>4/20/2016</td><td>10544</td><td> 6.68</td><td> 6.68</td><td>0</td><td>1.96</td><td>0.48</td><td>4.24</td><td>0</td><td>28</td><td>12</td><td>205</td><td> 818</td><td>1786</td></tr>\n",
       "\t<tr><td>1503960366</td><td>4/21/2016</td><td> 9819</td><td> 6.34</td><td> 6.34</td><td>0</td><td>1.34</td><td>0.35</td><td>4.65</td><td>0</td><td>19</td><td> 8</td><td>211</td><td> 838</td><td>1775</td></tr>\n",
       "\t<tr><td>1503960366</td><td>4/22/2016</td><td>12764</td><td> 8.13</td><td> 8.13</td><td>0</td><td>4.76</td><td>1.12</td><td>2.24</td><td>0</td><td>66</td><td>27</td><td>130</td><td>1217</td><td>1827</td></tr>\n",
       "\t<tr><td>1503960366</td><td>4/23/2016</td><td>14371</td><td> 9.04</td><td> 9.04</td><td>0</td><td>2.81</td><td>0.87</td><td>5.36</td><td>0</td><td>41</td><td>21</td><td>262</td><td> 732</td><td>1949</td></tr>\n",
       "\t<tr><td>1503960366</td><td>4/24/2016</td><td>10039</td><td> 6.41</td><td> 6.41</td><td>0</td><td>2.92</td><td>0.21</td><td>3.28</td><td>0</td><td>39</td><td> 5</td><td>238</td><td> 709</td><td>1788</td></tr>\n",
       "\t<tr><td>1503960366</td><td>4/25/2016</td><td>15355</td><td> 9.80</td><td> 9.80</td><td>0</td><td>5.29</td><td>0.57</td><td>3.94</td><td>0</td><td>73</td><td>14</td><td>216</td><td> 814</td><td>2013</td></tr>\n",
       "\t<tr><td>1503960366</td><td>4/26/2016</td><td>13755</td><td> 8.79</td><td> 8.79</td><td>0</td><td>2.33</td><td>0.92</td><td>5.54</td><td>0</td><td>31</td><td>23</td><td>279</td><td> 833</td><td>1970</td></tr>\n",
       "\t<tr><td>1503960366</td><td>4/27/2016</td><td>18134</td><td>12.21</td><td>12.21</td><td>0</td><td>6.40</td><td>0.41</td><td>5.41</td><td>0</td><td>78</td><td>11</td><td>243</td><td>1108</td><td>2159</td></tr>\n",
       "\t<tr><td>1503960366</td><td>4/28/2016</td><td>13154</td><td> 8.53</td><td> 8.53</td><td>0</td><td>3.54</td><td>1.16</td><td>3.79</td><td>0</td><td>48</td><td>28</td><td>189</td><td> 782</td><td>1898</td></tr>\n",
       "\t<tr><td>1503960366</td><td>4/29/2016</td><td>11181</td><td> 7.15</td><td> 7.15</td><td>0</td><td>1.06</td><td>0.50</td><td>5.58</td><td>0</td><td>16</td><td>12</td><td>243</td><td> 815</td><td>1837</td></tr>\n",
       "\t<tr><td>1503960366</td><td>4/30/2016</td><td>14673</td><td> 9.25</td><td> 9.25</td><td>0</td><td>3.56</td><td>1.42</td><td>4.27</td><td>0</td><td>52</td><td>34</td><td>217</td><td> 712</td><td>1947</td></tr>\n",
       "\t<tr><td>1503960366</td><td>5/1/2016 </td><td>10602</td><td> 6.81</td><td> 6.81</td><td>0</td><td>2.29</td><td>1.60</td><td>2.92</td><td>0</td><td>33</td><td>35</td><td>246</td><td> 730</td><td>1820</td></tr>\n",
       "</tbody>\n",
       "</table>\n"
      ],
      "text/latex": [
       "A tibble: 20 × 15\n",
       "\\begin{tabular}{lllllllllllllll}\n",
       " Id & ActivityDate & TotalSteps & TotalDistance & TrackerDistance & LoggedActivitiesDistance & VeryActiveDistance & ModeratelyActiveDistance & LightActiveDistance & SedentaryActiveDistance & VeryActiveMinutes & FairlyActiveMinutes & LightlyActiveMinutes & SedentaryMinutes & Calories\\\\\n",
       " <dbl> & <chr> & <dbl> & <dbl> & <dbl> & <dbl> & <dbl> & <dbl> & <dbl> & <dbl> & <dbl> & <dbl> & <dbl> & <dbl> & <dbl>\\\\\n",
       "\\hline\n",
       "\t 1503960366 & 4/12/2016 & 13162 &  8.50 &  8.50 & 0 & 1.88 & 0.55 & 6.06 & 0 & 25 & 13 & 328 &  728 & 1985\\\\\n",
       "\t 1503960366 & 4/13/2016 & 10735 &  6.97 &  6.97 & 0 & 1.57 & 0.69 & 4.71 & 0 & 21 & 19 & 217 &  776 & 1797\\\\\n",
       "\t 1503960366 & 4/14/2016 & 10460 &  6.74 &  6.74 & 0 & 2.44 & 0.40 & 3.91 & 0 & 30 & 11 & 181 & 1218 & 1776\\\\\n",
       "\t 1503960366 & 4/15/2016 &  9762 &  6.28 &  6.28 & 0 & 2.14 & 1.26 & 2.83 & 0 & 29 & 34 & 209 &  726 & 1745\\\\\n",
       "\t 1503960366 & 4/16/2016 & 12669 &  8.16 &  8.16 & 0 & 2.71 & 0.41 & 5.04 & 0 & 36 & 10 & 221 &  773 & 1863\\\\\n",
       "\t 1503960366 & 4/17/2016 &  9705 &  6.48 &  6.48 & 0 & 3.19 & 0.78 & 2.51 & 0 & 38 & 20 & 164 &  539 & 1728\\\\\n",
       "\t 1503960366 & 4/18/2016 & 13019 &  8.59 &  8.59 & 0 & 3.25 & 0.64 & 4.71 & 0 & 42 & 16 & 233 & 1149 & 1921\\\\\n",
       "\t 1503960366 & 4/19/2016 & 15506 &  9.88 &  9.88 & 0 & 3.53 & 1.32 & 5.03 & 0 & 50 & 31 & 264 &  775 & 2035\\\\\n",
       "\t 1503960366 & 4/20/2016 & 10544 &  6.68 &  6.68 & 0 & 1.96 & 0.48 & 4.24 & 0 & 28 & 12 & 205 &  818 & 1786\\\\\n",
       "\t 1503960366 & 4/21/2016 &  9819 &  6.34 &  6.34 & 0 & 1.34 & 0.35 & 4.65 & 0 & 19 &  8 & 211 &  838 & 1775\\\\\n",
       "\t 1503960366 & 4/22/2016 & 12764 &  8.13 &  8.13 & 0 & 4.76 & 1.12 & 2.24 & 0 & 66 & 27 & 130 & 1217 & 1827\\\\\n",
       "\t 1503960366 & 4/23/2016 & 14371 &  9.04 &  9.04 & 0 & 2.81 & 0.87 & 5.36 & 0 & 41 & 21 & 262 &  732 & 1949\\\\\n",
       "\t 1503960366 & 4/24/2016 & 10039 &  6.41 &  6.41 & 0 & 2.92 & 0.21 & 3.28 & 0 & 39 &  5 & 238 &  709 & 1788\\\\\n",
       "\t 1503960366 & 4/25/2016 & 15355 &  9.80 &  9.80 & 0 & 5.29 & 0.57 & 3.94 & 0 & 73 & 14 & 216 &  814 & 2013\\\\\n",
       "\t 1503960366 & 4/26/2016 & 13755 &  8.79 &  8.79 & 0 & 2.33 & 0.92 & 5.54 & 0 & 31 & 23 & 279 &  833 & 1970\\\\\n",
       "\t 1503960366 & 4/27/2016 & 18134 & 12.21 & 12.21 & 0 & 6.40 & 0.41 & 5.41 & 0 & 78 & 11 & 243 & 1108 & 2159\\\\\n",
       "\t 1503960366 & 4/28/2016 & 13154 &  8.53 &  8.53 & 0 & 3.54 & 1.16 & 3.79 & 0 & 48 & 28 & 189 &  782 & 1898\\\\\n",
       "\t 1503960366 & 4/29/2016 & 11181 &  7.15 &  7.15 & 0 & 1.06 & 0.50 & 5.58 & 0 & 16 & 12 & 243 &  815 & 1837\\\\\n",
       "\t 1503960366 & 4/30/2016 & 14673 &  9.25 &  9.25 & 0 & 3.56 & 1.42 & 4.27 & 0 & 52 & 34 & 217 &  712 & 1947\\\\\n",
       "\t 1503960366 & 5/1/2016  & 10602 &  6.81 &  6.81 & 0 & 2.29 & 1.60 & 2.92 & 0 & 33 & 35 & 246 &  730 & 1820\\\\\n",
       "\\end{tabular}\n"
      ],
      "text/markdown": [
       "\n",
       "A tibble: 20 × 15\n",
       "\n",
       "| Id &lt;dbl&gt; | ActivityDate &lt;chr&gt; | TotalSteps &lt;dbl&gt; | TotalDistance &lt;dbl&gt; | TrackerDistance &lt;dbl&gt; | LoggedActivitiesDistance &lt;dbl&gt; | VeryActiveDistance &lt;dbl&gt; | ModeratelyActiveDistance &lt;dbl&gt; | LightActiveDistance &lt;dbl&gt; | SedentaryActiveDistance &lt;dbl&gt; | VeryActiveMinutes &lt;dbl&gt; | FairlyActiveMinutes &lt;dbl&gt; | LightlyActiveMinutes &lt;dbl&gt; | SedentaryMinutes &lt;dbl&gt; | Calories &lt;dbl&gt; |\n",
       "|---|---|---|---|---|---|---|---|---|---|---|---|---|---|---|\n",
       "| 1503960366 | 4/12/2016 | 13162 |  8.50 |  8.50 | 0 | 1.88 | 0.55 | 6.06 | 0 | 25 | 13 | 328 |  728 | 1985 |\n",
       "| 1503960366 | 4/13/2016 | 10735 |  6.97 |  6.97 | 0 | 1.57 | 0.69 | 4.71 | 0 | 21 | 19 | 217 |  776 | 1797 |\n",
       "| 1503960366 | 4/14/2016 | 10460 |  6.74 |  6.74 | 0 | 2.44 | 0.40 | 3.91 | 0 | 30 | 11 | 181 | 1218 | 1776 |\n",
       "| 1503960366 | 4/15/2016 |  9762 |  6.28 |  6.28 | 0 | 2.14 | 1.26 | 2.83 | 0 | 29 | 34 | 209 |  726 | 1745 |\n",
       "| 1503960366 | 4/16/2016 | 12669 |  8.16 |  8.16 | 0 | 2.71 | 0.41 | 5.04 | 0 | 36 | 10 | 221 |  773 | 1863 |\n",
       "| 1503960366 | 4/17/2016 |  9705 |  6.48 |  6.48 | 0 | 3.19 | 0.78 | 2.51 | 0 | 38 | 20 | 164 |  539 | 1728 |\n",
       "| 1503960366 | 4/18/2016 | 13019 |  8.59 |  8.59 | 0 | 3.25 | 0.64 | 4.71 | 0 | 42 | 16 | 233 | 1149 | 1921 |\n",
       "| 1503960366 | 4/19/2016 | 15506 |  9.88 |  9.88 | 0 | 3.53 | 1.32 | 5.03 | 0 | 50 | 31 | 264 |  775 | 2035 |\n",
       "| 1503960366 | 4/20/2016 | 10544 |  6.68 |  6.68 | 0 | 1.96 | 0.48 | 4.24 | 0 | 28 | 12 | 205 |  818 | 1786 |\n",
       "| 1503960366 | 4/21/2016 |  9819 |  6.34 |  6.34 | 0 | 1.34 | 0.35 | 4.65 | 0 | 19 |  8 | 211 |  838 | 1775 |\n",
       "| 1503960366 | 4/22/2016 | 12764 |  8.13 |  8.13 | 0 | 4.76 | 1.12 | 2.24 | 0 | 66 | 27 | 130 | 1217 | 1827 |\n",
       "| 1503960366 | 4/23/2016 | 14371 |  9.04 |  9.04 | 0 | 2.81 | 0.87 | 5.36 | 0 | 41 | 21 | 262 |  732 | 1949 |\n",
       "| 1503960366 | 4/24/2016 | 10039 |  6.41 |  6.41 | 0 | 2.92 | 0.21 | 3.28 | 0 | 39 |  5 | 238 |  709 | 1788 |\n",
       "| 1503960366 | 4/25/2016 | 15355 |  9.80 |  9.80 | 0 | 5.29 | 0.57 | 3.94 | 0 | 73 | 14 | 216 |  814 | 2013 |\n",
       "| 1503960366 | 4/26/2016 | 13755 |  8.79 |  8.79 | 0 | 2.33 | 0.92 | 5.54 | 0 | 31 | 23 | 279 |  833 | 1970 |\n",
       "| 1503960366 | 4/27/2016 | 18134 | 12.21 | 12.21 | 0 | 6.40 | 0.41 | 5.41 | 0 | 78 | 11 | 243 | 1108 | 2159 |\n",
       "| 1503960366 | 4/28/2016 | 13154 |  8.53 |  8.53 | 0 | 3.54 | 1.16 | 3.79 | 0 | 48 | 28 | 189 |  782 | 1898 |\n",
       "| 1503960366 | 4/29/2016 | 11181 |  7.15 |  7.15 | 0 | 1.06 | 0.50 | 5.58 | 0 | 16 | 12 | 243 |  815 | 1837 |\n",
       "| 1503960366 | 4/30/2016 | 14673 |  9.25 |  9.25 | 0 | 3.56 | 1.42 | 4.27 | 0 | 52 | 34 | 217 |  712 | 1947 |\n",
       "| 1503960366 | 5/1/2016  | 10602 |  6.81 |  6.81 | 0 | 2.29 | 1.60 | 2.92 | 0 | 33 | 35 | 246 |  730 | 1820 |\n",
       "\n"
      ],
      "text/plain": [
       "   Id         ActivityDate TotalSteps TotalDistance TrackerDistance\n",
       "1  1503960366 4/12/2016    13162       8.50          8.50          \n",
       "2  1503960366 4/13/2016    10735       6.97          6.97          \n",
       "3  1503960366 4/14/2016    10460       6.74          6.74          \n",
       "4  1503960366 4/15/2016     9762       6.28          6.28          \n",
       "5  1503960366 4/16/2016    12669       8.16          8.16          \n",
       "6  1503960366 4/17/2016     9705       6.48          6.48          \n",
       "7  1503960366 4/18/2016    13019       8.59          8.59          \n",
       "8  1503960366 4/19/2016    15506       9.88          9.88          \n",
       "9  1503960366 4/20/2016    10544       6.68          6.68          \n",
       "10 1503960366 4/21/2016     9819       6.34          6.34          \n",
       "11 1503960366 4/22/2016    12764       8.13          8.13          \n",
       "12 1503960366 4/23/2016    14371       9.04          9.04          \n",
       "13 1503960366 4/24/2016    10039       6.41          6.41          \n",
       "14 1503960366 4/25/2016    15355       9.80          9.80          \n",
       "15 1503960366 4/26/2016    13755       8.79          8.79          \n",
       "16 1503960366 4/27/2016    18134      12.21         12.21          \n",
       "17 1503960366 4/28/2016    13154       8.53          8.53          \n",
       "18 1503960366 4/29/2016    11181       7.15          7.15          \n",
       "19 1503960366 4/30/2016    14673       9.25          9.25          \n",
       "20 1503960366 5/1/2016     10602       6.81          6.81          \n",
       "   LoggedActivitiesDistance VeryActiveDistance ModeratelyActiveDistance\n",
       "1  0                        1.88               0.55                    \n",
       "2  0                        1.57               0.69                    \n",
       "3  0                        2.44               0.40                    \n",
       "4  0                        2.14               1.26                    \n",
       "5  0                        2.71               0.41                    \n",
       "6  0                        3.19               0.78                    \n",
       "7  0                        3.25               0.64                    \n",
       "8  0                        3.53               1.32                    \n",
       "9  0                        1.96               0.48                    \n",
       "10 0                        1.34               0.35                    \n",
       "11 0                        4.76               1.12                    \n",
       "12 0                        2.81               0.87                    \n",
       "13 0                        2.92               0.21                    \n",
       "14 0                        5.29               0.57                    \n",
       "15 0                        2.33               0.92                    \n",
       "16 0                        6.40               0.41                    \n",
       "17 0                        3.54               1.16                    \n",
       "18 0                        1.06               0.50                    \n",
       "19 0                        3.56               1.42                    \n",
       "20 0                        2.29               1.60                    \n",
       "   LightActiveDistance SedentaryActiveDistance VeryActiveMinutes\n",
       "1  6.06                0                       25               \n",
       "2  4.71                0                       21               \n",
       "3  3.91                0                       30               \n",
       "4  2.83                0                       29               \n",
       "5  5.04                0                       36               \n",
       "6  2.51                0                       38               \n",
       "7  4.71                0                       42               \n",
       "8  5.03                0                       50               \n",
       "9  4.24                0                       28               \n",
       "10 4.65                0                       19               \n",
       "11 2.24                0                       66               \n",
       "12 5.36                0                       41               \n",
       "13 3.28                0                       39               \n",
       "14 3.94                0                       73               \n",
       "15 5.54                0                       31               \n",
       "16 5.41                0                       78               \n",
       "17 3.79                0                       48               \n",
       "18 5.58                0                       16               \n",
       "19 4.27                0                       52               \n",
       "20 2.92                0                       33               \n",
       "   FairlyActiveMinutes LightlyActiveMinutes SedentaryMinutes Calories\n",
       "1  13                  328                   728             1985    \n",
       "2  19                  217                   776             1797    \n",
       "3  11                  181                  1218             1776    \n",
       "4  34                  209                   726             1745    \n",
       "5  10                  221                   773             1863    \n",
       "6  20                  164                   539             1728    \n",
       "7  16                  233                  1149             1921    \n",
       "8  31                  264                   775             2035    \n",
       "9  12                  205                   818             1786    \n",
       "10  8                  211                   838             1775    \n",
       "11 27                  130                  1217             1827    \n",
       "12 21                  262                   732             1949    \n",
       "13  5                  238                   709             1788    \n",
       "14 14                  216                   814             2013    \n",
       "15 23                  279                   833             1970    \n",
       "16 11                  243                  1108             2159    \n",
       "17 28                  189                   782             1898    \n",
       "18 12                  243                   815             1837    \n",
       "19 34                  217                   712             1947    \n",
       "20 35                  246                   730             1820    "
      ]
     },
     "metadata": {},
     "output_type": "display_data"
    }
   ],
   "source": [
    "head(daily_activity,n=20)"
   ]
  },
  {
   "cell_type": "code",
   "execution_count": 8,
   "metadata": {},
   "outputs": [
    {
     "name": "stdout",
     "output_type": "stream",
     "text": [
      "spc_tbl_ [940 × 15] (S3: spec_tbl_df/tbl_df/tbl/data.frame)\n",
      " $ Id                      : num [1:940] 1.5e+09 1.5e+09 1.5e+09 1.5e+09 1.5e+09 ...\n",
      " $ ActivityDate            : chr [1:940] \"4/12/2016\" \"4/13/2016\" \"4/14/2016\" \"4/15/2016\" ...\n",
      " $ TotalSteps              : num [1:940] 13162 10735 10460 9762 12669 ...\n",
      " $ TotalDistance           : num [1:940] 8.5 6.97 6.74 6.28 8.16 ...\n",
      " $ TrackerDistance         : num [1:940] 8.5 6.97 6.74 6.28 8.16 ...\n",
      " $ LoggedActivitiesDistance: num [1:940] 0 0 0 0 0 0 0 0 0 0 ...\n",
      " $ VeryActiveDistance      : num [1:940] 1.88 1.57 2.44 2.14 2.71 ...\n",
      " $ ModeratelyActiveDistance: num [1:940] 0.55 0.69 0.4 1.26 0.41 ...\n",
      " $ LightActiveDistance     : num [1:940] 6.06 4.71 3.91 2.83 5.04 ...\n",
      " $ SedentaryActiveDistance : num [1:940] 0 0 0 0 0 0 0 0 0 0 ...\n",
      " $ VeryActiveMinutes       : num [1:940] 25 21 30 29 36 38 42 50 28 19 ...\n",
      " $ FairlyActiveMinutes     : num [1:940] 13 19 11 34 10 20 16 31 12 8 ...\n",
      " $ LightlyActiveMinutes    : num [1:940] 328 217 181 209 221 164 233 264 205 211 ...\n",
      " $ SedentaryMinutes        : num [1:940] 728 776 1218 726 773 ...\n",
      " $ Calories                : num [1:940] 1985 1797 1776 1745 1863 ...\n",
      " - attr(*, \"spec\")=\n",
      "  .. cols(\n",
      "  ..   Id = \u001b[32mcol_double()\u001b[39m,\n",
      "  ..   ActivityDate = \u001b[31mcol_character()\u001b[39m,\n",
      "  ..   TotalSteps = \u001b[32mcol_double()\u001b[39m,\n",
      "  ..   TotalDistance = \u001b[32mcol_double()\u001b[39m,\n",
      "  ..   TrackerDistance = \u001b[32mcol_double()\u001b[39m,\n",
      "  ..   LoggedActivitiesDistance = \u001b[32mcol_double()\u001b[39m,\n",
      "  ..   VeryActiveDistance = \u001b[32mcol_double()\u001b[39m,\n",
      "  ..   ModeratelyActiveDistance = \u001b[32mcol_double()\u001b[39m,\n",
      "  ..   LightActiveDistance = \u001b[32mcol_double()\u001b[39m,\n",
      "  ..   SedentaryActiveDistance = \u001b[32mcol_double()\u001b[39m,\n",
      "  ..   VeryActiveMinutes = \u001b[32mcol_double()\u001b[39m,\n",
      "  ..   FairlyActiveMinutes = \u001b[32mcol_double()\u001b[39m,\n",
      "  ..   LightlyActiveMinutes = \u001b[32mcol_double()\u001b[39m,\n",
      "  ..   SedentaryMinutes = \u001b[32mcol_double()\u001b[39m,\n",
      "  ..   Calories = \u001b[32mcol_double()\u001b[39m\n",
      "  .. )\n",
      " - attr(*, \"problems\")=<externalptr> \n"
     ]
    }
   ],
   "source": [
    "str(daily_activity)"
   ]
  },
  {
   "cell_type": "code",
   "execution_count": 9,
   "metadata": {},
   "outputs": [
    {
     "name": "stdout",
     "output_type": "stream",
     "text": [
      "── Data Summary ────────────────────────\n",
      "                           Values        \n",
      "Name                       daily_activity\n",
      "Number of rows             940           \n",
      "Number of columns          15            \n",
      "_______________________                  \n",
      "Column type frequency:                   \n",
      "  character                1             \n",
      "  numeric                  14            \n",
      "________________________                 \n",
      "Group variables            None          \n",
      "\n",
      "── Variable type: character ────────────────────────────────────────────────────\n",
      "  skim_variable n_missing complete_rate min max empty n_unique whitespace\n",
      "\u001b[90m1\u001b[39m ActivityDate          0             1   8   9     0       31          0\n",
      "\n",
      "── Variable type: numeric ──────────────────────────────────────────────────────\n",
      "   skim_variable            n_missing complete_rate    mean      sd         p0\n",
      "\u001b[90m 1\u001b[39m Id                               0             1 4.86\u001b[90me\u001b[39m+9 2.42\u001b[90me\u001b[39m+9 \u001b[4m1\u001b[24m503\u001b[4m9\u001b[24m\u001b[4m6\u001b[24m\u001b[4m0\u001b[24m366\n",
      "\u001b[90m 2\u001b[39m TotalSteps                       0             1 7.64\u001b[90me\u001b[39m+3 5.09\u001b[90me\u001b[39m+3          0\n",
      "\u001b[90m 3\u001b[39m TotalDistance                    0             1 5.49\u001b[90me\u001b[39m+0 3.92\u001b[90me\u001b[39m+0          0\n",
      "\u001b[90m 4\u001b[39m TrackerDistance                  0             1 5.48\u001b[90me\u001b[39m+0 3.91\u001b[90me\u001b[39m+0          0\n",
      "\u001b[90m 5\u001b[39m LoggedActivitiesDistance         0             1 1.08\u001b[90me\u001b[39m\u001b[31m-1\u001b[39m 6.20\u001b[90me\u001b[39m\u001b[31m-1\u001b[39m          0\n",
      "\u001b[90m 6\u001b[39m VeryActiveDistance               0             1 1.50\u001b[90me\u001b[39m+0 2.66\u001b[90me\u001b[39m+0          0\n",
      "\u001b[90m 7\u001b[39m ModeratelyActiveDistance         0             1 5.68\u001b[90me\u001b[39m\u001b[31m-1\u001b[39m 8.84\u001b[90me\u001b[39m\u001b[31m-1\u001b[39m          0\n",
      "\u001b[90m 8\u001b[39m LightActiveDistance              0             1 3.34\u001b[90me\u001b[39m+0 2.04\u001b[90me\u001b[39m+0          0\n",
      "\u001b[90m 9\u001b[39m SedentaryActiveDistance          0             1 1.61\u001b[90me\u001b[39m\u001b[31m-3\u001b[39m 7.35\u001b[90me\u001b[39m\u001b[31m-3\u001b[39m          0\n",
      "\u001b[90m10\u001b[39m VeryActiveMinutes                0             1 2.12\u001b[90me\u001b[39m+1 3.28\u001b[90me\u001b[39m+1          0\n",
      "\u001b[90m11\u001b[39m FairlyActiveMinutes              0             1 1.36\u001b[90me\u001b[39m+1 2.00\u001b[90me\u001b[39m+1          0\n",
      "\u001b[90m12\u001b[39m LightlyActiveMinutes             0             1 1.93\u001b[90me\u001b[39m+2 1.09\u001b[90me\u001b[39m+2          0\n",
      "\u001b[90m13\u001b[39m SedentaryMinutes                 0             1 9.91\u001b[90me\u001b[39m+2 3.01\u001b[90me\u001b[39m+2          0\n",
      "\u001b[90m14\u001b[39m Calories                         0             1 2.30\u001b[90me\u001b[39m+3 7.18\u001b[90me\u001b[39m+2          0\n",
      "             p25     p50     p75    p100\n",
      "\u001b[90m 1\u001b[39m \u001b[4m2\u001b[24m320\u001b[4m1\u001b[24m\u001b[4m2\u001b[24m\u001b[4m7\u001b[24m002    4.45\u001b[90me\u001b[39m+9 6.96\u001b[90me\u001b[39m+9 8.88\u001b[90me\u001b[39m+9\n",
      "\u001b[90m 2\u001b[39m       \u001b[4m3\u001b[24m790.   7.41\u001b[90me\u001b[39m+3 1.07\u001b[90me\u001b[39m+4 3.60\u001b[90me\u001b[39m+4\n",
      "\u001b[90m 3\u001b[39m          2.62 5.24\u001b[90me\u001b[39m+0 7.71\u001b[90me\u001b[39m+0 2.80\u001b[90me\u001b[39m+1\n",
      "\u001b[90m 4\u001b[39m          2.62 5.24\u001b[90me\u001b[39m+0 7.71\u001b[90me\u001b[39m+0 2.80\u001b[90me\u001b[39m+1\n",
      "\u001b[90m 5\u001b[39m          0    0   \u001b[90m \u001b[39m   0   \u001b[90m \u001b[39m   4.94\u001b[90me\u001b[39m+0\n",
      "\u001b[90m 6\u001b[39m          0    2.10\u001b[90me\u001b[39m\u001b[31m-1\u001b[39m 2.05\u001b[90me\u001b[39m+0 2.19\u001b[90me\u001b[39m+1\n",
      "\u001b[90m 7\u001b[39m          0    2.40\u001b[90me\u001b[39m\u001b[31m-1\u001b[39m 8.00\u001b[90me\u001b[39m\u001b[31m-1\u001b[39m 6.48\u001b[90me\u001b[39m+0\n",
      "\u001b[90m 8\u001b[39m          1.95 3.36\u001b[90me\u001b[39m+0 4.78\u001b[90me\u001b[39m+0 1.07\u001b[90me\u001b[39m+1\n",
      "\u001b[90m 9\u001b[39m          0    0   \u001b[90m \u001b[39m   0   \u001b[90m \u001b[39m   1.10\u001b[90me\u001b[39m\u001b[31m-1\u001b[39m\n",
      "\u001b[90m10\u001b[39m          0    4   \u001b[90me\u001b[39m+0 3.2 \u001b[90me\u001b[39m+1 2.1 \u001b[90me\u001b[39m+2\n",
      "\u001b[90m11\u001b[39m          0    6   \u001b[90me\u001b[39m+0 1.9 \u001b[90me\u001b[39m+1 1.43\u001b[90me\u001b[39m+2\n",
      "\u001b[90m12\u001b[39m        127    1.99\u001b[90me\u001b[39m+2 2.64\u001b[90me\u001b[39m+2 5.18\u001b[90me\u001b[39m+2\n",
      "\u001b[90m13\u001b[39m        730.   1.06\u001b[90me\u001b[39m+3 1.23\u001b[90me\u001b[39m+3 1.44\u001b[90me\u001b[39m+3\n",
      "\u001b[90m14\u001b[39m       \u001b[4m1\u001b[24m828.   2.13\u001b[90me\u001b[39m+3 2.79\u001b[90me\u001b[39m+3 4.9 \u001b[90me\u001b[39m+3\n"
     ]
    },
    {
     "ename": "ERROR",
     "evalue": "Error in is.null(text_repr) || nchar(text_repr) == 0L: 'length = 16' in coercion to 'logical(1)'\n",
     "output_type": "error",
     "traceback": [
      "Error in is.null(text_repr) || nchar(text_repr) == 0L: 'length = 16' in coercion to 'logical(1)'\nTraceback:\n"
     ]
    }
   ],
   "source": [
    "skim_without_charts(daily_activity)"
   ]
  },
  {
   "cell_type": "code",
   "execution_count": 10,
   "metadata": {},
   "outputs": [
    {
     "data": {
      "text/html": [
       "<table class=\"dataframe\">\n",
       "<caption>A tibble: 20 × 15</caption>\n",
       "<thead>\n",
       "\t<tr><th scope=col>Id</th><th scope=col>ActivityDate</th><th scope=col>TotalSteps</th><th scope=col>TotalDistance</th><th scope=col>TrackerDistance</th><th scope=col>LoggedActivitiesDistance</th><th scope=col>VeryActiveDistance</th><th scope=col>ModeratelyActiveDistance</th><th scope=col>LightActiveDistance</th><th scope=col>SedentaryActiveDistance</th><th scope=col>VeryActiveMinutes</th><th scope=col>FairlyActiveMinutes</th><th scope=col>LightlyActiveMinutes</th><th scope=col>SedentaryMinutes</th><th scope=col>Calories</th></tr>\n",
       "\t<tr><th scope=col>&lt;dbl&gt;</th><th scope=col>&lt;chr&gt;</th><th scope=col>&lt;dbl&gt;</th><th scope=col>&lt;dbl&gt;</th><th scope=col>&lt;dbl&gt;</th><th scope=col>&lt;dbl&gt;</th><th scope=col>&lt;dbl&gt;</th><th scope=col>&lt;dbl&gt;</th><th scope=col>&lt;dbl&gt;</th><th scope=col>&lt;dbl&gt;</th><th scope=col>&lt;dbl&gt;</th><th scope=col>&lt;dbl&gt;</th><th scope=col>&lt;dbl&gt;</th><th scope=col>&lt;dbl&gt;</th><th scope=col>&lt;dbl&gt;</th></tr>\n",
       "</thead>\n",
       "<tbody>\n",
       "\t<tr><td>8877689391</td><td>4/23/2016</td><td>11200</td><td> 7.43</td><td> 7.43</td><td>0</td><td> 0.00</td><td>0.00</td><td>7.40</td><td>0.01</td><td>102</td><td> 6</td><td>300</td><td>1032</td><td>3891</td></tr>\n",
       "\t<tr><td>8877689391</td><td>4/24/2016</td><td>16674</td><td>15.74</td><td>15.74</td><td>0</td><td>11.01</td><td>0.01</td><td>4.69</td><td>0.00</td><td> 64</td><td> 1</td><td>227</td><td>1148</td><td>3455</td></tr>\n",
       "\t<tr><td>8877689391</td><td>4/25/2016</td><td>12986</td><td> 8.74</td><td> 8.74</td><td>0</td><td> 2.37</td><td>0.07</td><td>6.27</td><td>0.01</td><td>113</td><td> 8</td><td>218</td><td>1101</td><td>3802</td></tr>\n",
       "\t<tr><td>8877689391</td><td>4/26/2016</td><td>11101</td><td> 8.43</td><td> 8.43</td><td>0</td><td> 1.76</td><td>0.13</td><td>6.50</td><td>0.00</td><td> 22</td><td> 3</td><td>258</td><td>1157</td><td>2860</td></tr>\n",
       "\t<tr><td>8877689391</td><td>4/27/2016</td><td>23629</td><td>20.65</td><td>20.65</td><td>0</td><td>13.07</td><td>0.44</td><td>7.10</td><td>0.00</td><td> 93</td><td> 8</td><td>235</td><td>1104</td><td>3808</td></tr>\n",
       "\t<tr><td>8877689391</td><td>4/28/2016</td><td>14890</td><td>11.30</td><td>11.30</td><td>0</td><td> 4.93</td><td>0.38</td><td>5.97</td><td>0.00</td><td> 58</td><td> 8</td><td>231</td><td>1143</td><td>3060</td></tr>\n",
       "\t<tr><td>8877689391</td><td>4/29/2016</td><td> 9733</td><td> 7.39</td><td> 7.39</td><td>0</td><td> 1.38</td><td>0.17</td><td>5.79</td><td>0.00</td><td> 18</td><td> 5</td><td>210</td><td>1207</td><td>2698</td></tr>\n",
       "\t<tr><td>8877689391</td><td>4/30/2016</td><td>27745</td><td>26.72</td><td>26.72</td><td>0</td><td>21.66</td><td>0.08</td><td>4.93</td><td>0.00</td><td>124</td><td> 4</td><td>223</td><td>1089</td><td>4398</td></tr>\n",
       "\t<tr><td>8877689391</td><td>5/1/2016 </td><td>10930</td><td> 8.32</td><td> 8.32</td><td>0</td><td> 3.13</td><td>0.57</td><td>4.57</td><td>0.00</td><td> 36</td><td>12</td><td>166</td><td>1226</td><td>2786</td></tr>\n",
       "\t<tr><td>8877689391</td><td>5/2/2016 </td><td> 4790</td><td> 3.64</td><td> 3.64</td><td>0</td><td> 0.00</td><td>0.00</td><td>3.56</td><td>0.00</td><td>  0</td><td> 0</td><td>105</td><td>1335</td><td>2189</td></tr>\n",
       "\t<tr><td>8877689391</td><td>5/3/2016 </td><td>10818</td><td> 8.21</td><td> 8.21</td><td>0</td><td> 1.39</td><td>0.10</td><td>6.67</td><td>0.01</td><td> 19</td><td> 3</td><td>229</td><td>1189</td><td>2817</td></tr>\n",
       "\t<tr><td>8877689391</td><td>5/4/2016 </td><td>18193</td><td>16.30</td><td>16.30</td><td>0</td><td>10.42</td><td>0.31</td><td>5.53</td><td>0.00</td><td> 66</td><td> 8</td><td>212</td><td>1154</td><td>3477</td></tr>\n",
       "\t<tr><td>8877689391</td><td>5/5/2016 </td><td>14055</td><td>10.67</td><td>10.67</td><td>0</td><td> 5.46</td><td>0.82</td><td>4.37</td><td>0.00</td><td> 67</td><td>15</td><td>188</td><td>1170</td><td>3052</td></tr>\n",
       "\t<tr><td>8877689391</td><td>5/6/2016 </td><td>21727</td><td>19.34</td><td>19.34</td><td>0</td><td>12.79</td><td>0.29</td><td>6.16</td><td>0.00</td><td> 96</td><td>17</td><td>232</td><td>1095</td><td>4015</td></tr>\n",
       "\t<tr><td>8877689391</td><td>5/7/2016 </td><td>12332</td><td> 8.13</td><td> 8.13</td><td>0</td><td> 0.08</td><td>0.96</td><td>6.99</td><td>0.00</td><td>105</td><td>28</td><td>271</td><td>1036</td><td>4142</td></tr>\n",
       "\t<tr><td>8877689391</td><td>5/8/2016 </td><td>10686</td><td> 8.11</td><td> 8.11</td><td>0</td><td> 1.08</td><td>0.20</td><td>6.80</td><td>0.00</td><td> 17</td><td> 4</td><td>245</td><td>1174</td><td>2847</td></tr>\n",
       "\t<tr><td>8877689391</td><td>5/9/2016 </td><td>20226</td><td>18.25</td><td>18.25</td><td>0</td><td>11.10</td><td>0.80</td><td>6.24</td><td>0.05</td><td> 73</td><td>19</td><td>217</td><td>1131</td><td>3710</td></tr>\n",
       "\t<tr><td>8877689391</td><td>5/10/2016</td><td>10733</td><td> 8.15</td><td> 8.15</td><td>0</td><td> 1.35</td><td>0.46</td><td>6.28</td><td>0.00</td><td> 18</td><td>11</td><td>224</td><td>1187</td><td>2832</td></tr>\n",
       "\t<tr><td>8877689391</td><td>5/11/2016</td><td>21420</td><td>19.56</td><td>19.56</td><td>0</td><td>13.22</td><td>0.41</td><td>5.89</td><td>0.00</td><td> 88</td><td>12</td><td>213</td><td>1127</td><td>3832</td></tr>\n",
       "\t<tr><td>8877689391</td><td>5/12/2016</td><td> 8064</td><td> 6.12</td><td> 6.12</td><td>0</td><td> 1.82</td><td>0.04</td><td>4.25</td><td>0.00</td><td> 23</td><td> 1</td><td>137</td><td> 770</td><td>1849</td></tr>\n",
       "</tbody>\n",
       "</table>\n"
      ],
      "text/latex": [
       "A tibble: 20 × 15\n",
       "\\begin{tabular}{lllllllllllllll}\n",
       " Id & ActivityDate & TotalSteps & TotalDistance & TrackerDistance & LoggedActivitiesDistance & VeryActiveDistance & ModeratelyActiveDistance & LightActiveDistance & SedentaryActiveDistance & VeryActiveMinutes & FairlyActiveMinutes & LightlyActiveMinutes & SedentaryMinutes & Calories\\\\\n",
       " <dbl> & <chr> & <dbl> & <dbl> & <dbl> & <dbl> & <dbl> & <dbl> & <dbl> & <dbl> & <dbl> & <dbl> & <dbl> & <dbl> & <dbl>\\\\\n",
       "\\hline\n",
       "\t 8877689391 & 4/23/2016 & 11200 &  7.43 &  7.43 & 0 &  0.00 & 0.00 & 7.40 & 0.01 & 102 &  6 & 300 & 1032 & 3891\\\\\n",
       "\t 8877689391 & 4/24/2016 & 16674 & 15.74 & 15.74 & 0 & 11.01 & 0.01 & 4.69 & 0.00 &  64 &  1 & 227 & 1148 & 3455\\\\\n",
       "\t 8877689391 & 4/25/2016 & 12986 &  8.74 &  8.74 & 0 &  2.37 & 0.07 & 6.27 & 0.01 & 113 &  8 & 218 & 1101 & 3802\\\\\n",
       "\t 8877689391 & 4/26/2016 & 11101 &  8.43 &  8.43 & 0 &  1.76 & 0.13 & 6.50 & 0.00 &  22 &  3 & 258 & 1157 & 2860\\\\\n",
       "\t 8877689391 & 4/27/2016 & 23629 & 20.65 & 20.65 & 0 & 13.07 & 0.44 & 7.10 & 0.00 &  93 &  8 & 235 & 1104 & 3808\\\\\n",
       "\t 8877689391 & 4/28/2016 & 14890 & 11.30 & 11.30 & 0 &  4.93 & 0.38 & 5.97 & 0.00 &  58 &  8 & 231 & 1143 & 3060\\\\\n",
       "\t 8877689391 & 4/29/2016 &  9733 &  7.39 &  7.39 & 0 &  1.38 & 0.17 & 5.79 & 0.00 &  18 &  5 & 210 & 1207 & 2698\\\\\n",
       "\t 8877689391 & 4/30/2016 & 27745 & 26.72 & 26.72 & 0 & 21.66 & 0.08 & 4.93 & 0.00 & 124 &  4 & 223 & 1089 & 4398\\\\\n",
       "\t 8877689391 & 5/1/2016  & 10930 &  8.32 &  8.32 & 0 &  3.13 & 0.57 & 4.57 & 0.00 &  36 & 12 & 166 & 1226 & 2786\\\\\n",
       "\t 8877689391 & 5/2/2016  &  4790 &  3.64 &  3.64 & 0 &  0.00 & 0.00 & 3.56 & 0.00 &   0 &  0 & 105 & 1335 & 2189\\\\\n",
       "\t 8877689391 & 5/3/2016  & 10818 &  8.21 &  8.21 & 0 &  1.39 & 0.10 & 6.67 & 0.01 &  19 &  3 & 229 & 1189 & 2817\\\\\n",
       "\t 8877689391 & 5/4/2016  & 18193 & 16.30 & 16.30 & 0 & 10.42 & 0.31 & 5.53 & 0.00 &  66 &  8 & 212 & 1154 & 3477\\\\\n",
       "\t 8877689391 & 5/5/2016  & 14055 & 10.67 & 10.67 & 0 &  5.46 & 0.82 & 4.37 & 0.00 &  67 & 15 & 188 & 1170 & 3052\\\\\n",
       "\t 8877689391 & 5/6/2016  & 21727 & 19.34 & 19.34 & 0 & 12.79 & 0.29 & 6.16 & 0.00 &  96 & 17 & 232 & 1095 & 4015\\\\\n",
       "\t 8877689391 & 5/7/2016  & 12332 &  8.13 &  8.13 & 0 &  0.08 & 0.96 & 6.99 & 0.00 & 105 & 28 & 271 & 1036 & 4142\\\\\n",
       "\t 8877689391 & 5/8/2016  & 10686 &  8.11 &  8.11 & 0 &  1.08 & 0.20 & 6.80 & 0.00 &  17 &  4 & 245 & 1174 & 2847\\\\\n",
       "\t 8877689391 & 5/9/2016  & 20226 & 18.25 & 18.25 & 0 & 11.10 & 0.80 & 6.24 & 0.05 &  73 & 19 & 217 & 1131 & 3710\\\\\n",
       "\t 8877689391 & 5/10/2016 & 10733 &  8.15 &  8.15 & 0 &  1.35 & 0.46 & 6.28 & 0.00 &  18 & 11 & 224 & 1187 & 2832\\\\\n",
       "\t 8877689391 & 5/11/2016 & 21420 & 19.56 & 19.56 & 0 & 13.22 & 0.41 & 5.89 & 0.00 &  88 & 12 & 213 & 1127 & 3832\\\\\n",
       "\t 8877689391 & 5/12/2016 &  8064 &  6.12 &  6.12 & 0 &  1.82 & 0.04 & 4.25 & 0.00 &  23 &  1 & 137 &  770 & 1849\\\\\n",
       "\\end{tabular}\n"
      ],
      "text/markdown": [
       "\n",
       "A tibble: 20 × 15\n",
       "\n",
       "| Id &lt;dbl&gt; | ActivityDate &lt;chr&gt; | TotalSteps &lt;dbl&gt; | TotalDistance &lt;dbl&gt; | TrackerDistance &lt;dbl&gt; | LoggedActivitiesDistance &lt;dbl&gt; | VeryActiveDistance &lt;dbl&gt; | ModeratelyActiveDistance &lt;dbl&gt; | LightActiveDistance &lt;dbl&gt; | SedentaryActiveDistance &lt;dbl&gt; | VeryActiveMinutes &lt;dbl&gt; | FairlyActiveMinutes &lt;dbl&gt; | LightlyActiveMinutes &lt;dbl&gt; | SedentaryMinutes &lt;dbl&gt; | Calories &lt;dbl&gt; |\n",
       "|---|---|---|---|---|---|---|---|---|---|---|---|---|---|---|\n",
       "| 8877689391 | 4/23/2016 | 11200 |  7.43 |  7.43 | 0 |  0.00 | 0.00 | 7.40 | 0.01 | 102 |  6 | 300 | 1032 | 3891 |\n",
       "| 8877689391 | 4/24/2016 | 16674 | 15.74 | 15.74 | 0 | 11.01 | 0.01 | 4.69 | 0.00 |  64 |  1 | 227 | 1148 | 3455 |\n",
       "| 8877689391 | 4/25/2016 | 12986 |  8.74 |  8.74 | 0 |  2.37 | 0.07 | 6.27 | 0.01 | 113 |  8 | 218 | 1101 | 3802 |\n",
       "| 8877689391 | 4/26/2016 | 11101 |  8.43 |  8.43 | 0 |  1.76 | 0.13 | 6.50 | 0.00 |  22 |  3 | 258 | 1157 | 2860 |\n",
       "| 8877689391 | 4/27/2016 | 23629 | 20.65 | 20.65 | 0 | 13.07 | 0.44 | 7.10 | 0.00 |  93 |  8 | 235 | 1104 | 3808 |\n",
       "| 8877689391 | 4/28/2016 | 14890 | 11.30 | 11.30 | 0 |  4.93 | 0.38 | 5.97 | 0.00 |  58 |  8 | 231 | 1143 | 3060 |\n",
       "| 8877689391 | 4/29/2016 |  9733 |  7.39 |  7.39 | 0 |  1.38 | 0.17 | 5.79 | 0.00 |  18 |  5 | 210 | 1207 | 2698 |\n",
       "| 8877689391 | 4/30/2016 | 27745 | 26.72 | 26.72 | 0 | 21.66 | 0.08 | 4.93 | 0.00 | 124 |  4 | 223 | 1089 | 4398 |\n",
       "| 8877689391 | 5/1/2016  | 10930 |  8.32 |  8.32 | 0 |  3.13 | 0.57 | 4.57 | 0.00 |  36 | 12 | 166 | 1226 | 2786 |\n",
       "| 8877689391 | 5/2/2016  |  4790 |  3.64 |  3.64 | 0 |  0.00 | 0.00 | 3.56 | 0.00 |   0 |  0 | 105 | 1335 | 2189 |\n",
       "| 8877689391 | 5/3/2016  | 10818 |  8.21 |  8.21 | 0 |  1.39 | 0.10 | 6.67 | 0.01 |  19 |  3 | 229 | 1189 | 2817 |\n",
       "| 8877689391 | 5/4/2016  | 18193 | 16.30 | 16.30 | 0 | 10.42 | 0.31 | 5.53 | 0.00 |  66 |  8 | 212 | 1154 | 3477 |\n",
       "| 8877689391 | 5/5/2016  | 14055 | 10.67 | 10.67 | 0 |  5.46 | 0.82 | 4.37 | 0.00 |  67 | 15 | 188 | 1170 | 3052 |\n",
       "| 8877689391 | 5/6/2016  | 21727 | 19.34 | 19.34 | 0 | 12.79 | 0.29 | 6.16 | 0.00 |  96 | 17 | 232 | 1095 | 4015 |\n",
       "| 8877689391 | 5/7/2016  | 12332 |  8.13 |  8.13 | 0 |  0.08 | 0.96 | 6.99 | 0.00 | 105 | 28 | 271 | 1036 | 4142 |\n",
       "| 8877689391 | 5/8/2016  | 10686 |  8.11 |  8.11 | 0 |  1.08 | 0.20 | 6.80 | 0.00 |  17 |  4 | 245 | 1174 | 2847 |\n",
       "| 8877689391 | 5/9/2016  | 20226 | 18.25 | 18.25 | 0 | 11.10 | 0.80 | 6.24 | 0.05 |  73 | 19 | 217 | 1131 | 3710 |\n",
       "| 8877689391 | 5/10/2016 | 10733 |  8.15 |  8.15 | 0 |  1.35 | 0.46 | 6.28 | 0.00 |  18 | 11 | 224 | 1187 | 2832 |\n",
       "| 8877689391 | 5/11/2016 | 21420 | 19.56 | 19.56 | 0 | 13.22 | 0.41 | 5.89 | 0.00 |  88 | 12 | 213 | 1127 | 3832 |\n",
       "| 8877689391 | 5/12/2016 |  8064 |  6.12 |  6.12 | 0 |  1.82 | 0.04 | 4.25 | 0.00 |  23 |  1 | 137 |  770 | 1849 |\n",
       "\n"
      ],
      "text/plain": [
       "   Id         ActivityDate TotalSteps TotalDistance TrackerDistance\n",
       "1  8877689391 4/23/2016    11200       7.43          7.43          \n",
       "2  8877689391 4/24/2016    16674      15.74         15.74          \n",
       "3  8877689391 4/25/2016    12986       8.74          8.74          \n",
       "4  8877689391 4/26/2016    11101       8.43          8.43          \n",
       "5  8877689391 4/27/2016    23629      20.65         20.65          \n",
       "6  8877689391 4/28/2016    14890      11.30         11.30          \n",
       "7  8877689391 4/29/2016     9733       7.39          7.39          \n",
       "8  8877689391 4/30/2016    27745      26.72         26.72          \n",
       "9  8877689391 5/1/2016     10930       8.32          8.32          \n",
       "10 8877689391 5/2/2016      4790       3.64          3.64          \n",
       "11 8877689391 5/3/2016     10818       8.21          8.21          \n",
       "12 8877689391 5/4/2016     18193      16.30         16.30          \n",
       "13 8877689391 5/5/2016     14055      10.67         10.67          \n",
       "14 8877689391 5/6/2016     21727      19.34         19.34          \n",
       "15 8877689391 5/7/2016     12332       8.13          8.13          \n",
       "16 8877689391 5/8/2016     10686       8.11          8.11          \n",
       "17 8877689391 5/9/2016     20226      18.25         18.25          \n",
       "18 8877689391 5/10/2016    10733       8.15          8.15          \n",
       "19 8877689391 5/11/2016    21420      19.56         19.56          \n",
       "20 8877689391 5/12/2016     8064       6.12          6.12          \n",
       "   LoggedActivitiesDistance VeryActiveDistance ModeratelyActiveDistance\n",
       "1  0                         0.00              0.00                    \n",
       "2  0                        11.01              0.01                    \n",
       "3  0                         2.37              0.07                    \n",
       "4  0                         1.76              0.13                    \n",
       "5  0                        13.07              0.44                    \n",
       "6  0                         4.93              0.38                    \n",
       "7  0                         1.38              0.17                    \n",
       "8  0                        21.66              0.08                    \n",
       "9  0                         3.13              0.57                    \n",
       "10 0                         0.00              0.00                    \n",
       "11 0                         1.39              0.10                    \n",
       "12 0                        10.42              0.31                    \n",
       "13 0                         5.46              0.82                    \n",
       "14 0                        12.79              0.29                    \n",
       "15 0                         0.08              0.96                    \n",
       "16 0                         1.08              0.20                    \n",
       "17 0                        11.10              0.80                    \n",
       "18 0                         1.35              0.46                    \n",
       "19 0                        13.22              0.41                    \n",
       "20 0                         1.82              0.04                    \n",
       "   LightActiveDistance SedentaryActiveDistance VeryActiveMinutes\n",
       "1  7.40                0.01                    102              \n",
       "2  4.69                0.00                     64              \n",
       "3  6.27                0.01                    113              \n",
       "4  6.50                0.00                     22              \n",
       "5  7.10                0.00                     93              \n",
       "6  5.97                0.00                     58              \n",
       "7  5.79                0.00                     18              \n",
       "8  4.93                0.00                    124              \n",
       "9  4.57                0.00                     36              \n",
       "10 3.56                0.00                      0              \n",
       "11 6.67                0.01                     19              \n",
       "12 5.53                0.00                     66              \n",
       "13 4.37                0.00                     67              \n",
       "14 6.16                0.00                     96              \n",
       "15 6.99                0.00                    105              \n",
       "16 6.80                0.00                     17              \n",
       "17 6.24                0.05                     73              \n",
       "18 6.28                0.00                     18              \n",
       "19 5.89                0.00                     88              \n",
       "20 4.25                0.00                     23              \n",
       "   FairlyActiveMinutes LightlyActiveMinutes SedentaryMinutes Calories\n",
       "1   6                  300                  1032             3891    \n",
       "2   1                  227                  1148             3455    \n",
       "3   8                  218                  1101             3802    \n",
       "4   3                  258                  1157             2860    \n",
       "5   8                  235                  1104             3808    \n",
       "6   8                  231                  1143             3060    \n",
       "7   5                  210                  1207             2698    \n",
       "8   4                  223                  1089             4398    \n",
       "9  12                  166                  1226             2786    \n",
       "10  0                  105                  1335             2189    \n",
       "11  3                  229                  1189             2817    \n",
       "12  8                  212                  1154             3477    \n",
       "13 15                  188                  1170             3052    \n",
       "14 17                  232                  1095             4015    \n",
       "15 28                  271                  1036             4142    \n",
       "16  4                  245                  1174             2847    \n",
       "17 19                  217                  1131             3710    \n",
       "18 11                  224                  1187             2832    \n",
       "19 12                  213                  1127             3832    \n",
       "20  1                  137                   770             1849    "
      ]
     },
     "metadata": {},
     "output_type": "display_data"
    }
   ],
   "source": [
    "tail(daily_activity, n=20)"
   ]
  },
  {
   "cell_type": "markdown",
   "metadata": {},
   "source": [
    "#### Cleaning data\n",
    "\n",
    "Next step is to clean data to ensure consistency and make analysis smother and efficient."
   ]
  },
  {
   "cell_type": "code",
   "execution_count": 11,
   "metadata": {},
   "outputs": [],
   "source": [
    "#Converting names in consistent format\n",
    "\n",
    "daily_activity1 <- clean_names(daily_activity)\n",
    "daily_steps1 <- clean_names(daily_steps)\n",
    "daily_cal1 <- clean_names(daily_cal)\n",
    "daily_ints1 <- clean_names(daily_ints)\n",
    "daily_sleep1 <- clean_names(daily_sleep)"
   ]
  },
  {
   "cell_type": "code",
   "execution_count": 12,
   "metadata": {},
   "outputs": [],
   "source": [
    "#Rename date coloumn\n",
    "\n",
    "daily_activity1 <- rename(daily_activity1, date=activity_date)\n",
    "\n",
    "daily_steps1 <- rename(daily_steps1, date=activity_day)\n",
    "\n",
    "daily_cal1 <- rename(daily_cal1, date=activity_day)\n",
    "\n",
    "daily_sleep1 <- rename(daily_sleep1, date=sleep_day)\n",
    "\n",
    "daily_ints1 <- rename(daily_ints1, date=activity_day)"
   ]
  },
  {
   "cell_type": "code",
   "execution_count": 13,
   "metadata": {},
   "outputs": [
    {
     "name": "stdout",
     "output_type": "stream",
     "text": [
      "[1] 33\n",
      "[1] 33\n",
      "[1] 33\n",
      "[1] 24\n"
     ]
    }
   ],
   "source": [
    "#Verifying number of users\n",
    "\n",
    "unique_id_count <- n_distinct(daily_activity1$id)\n",
    "view(unique_id_count)\n",
    "\n",
    "unique_id_count <- n_distinct(daily_steps1$id)\n",
    "print(unique_id_count)\n",
    "\n",
    "unique_id_count <- n_distinct(daily_cal1$id)\n",
    "print(unique_id_count)\n",
    "\n",
    "unique_id_count <- n_distinct(daily_ints1$id)\n",
    "print(unique_id_count)\n",
    "\n",
    "unique_id_count <- n_distinct(daily_sleep1$id)\n",
    "print(unique_id_count)"
   ]
  },
  {
   "cell_type": "markdown",
   "metadata": {},
   "source": [
    "There are total 33 participants in each data set except for sleep in which there are 24. Also, point to be noted that there are some descrepencies in the data as the study says there are total 30 participants, but data indicates 33. "
   ]
  },
  {
   "cell_type": "code",
   "execution_count": 14,
   "metadata": {},
   "outputs": [
    {
     "name": "stdout",
     "output_type": "stream",
     "text": [
      "\u001b[90m# A tibble: 940 × 15\u001b[39m\n",
      "           id date       total_steps total_distance tracker_distance\n",
      "        \u001b[3m\u001b[90m<dbl>\u001b[39m\u001b[23m \u001b[3m\u001b[90m<date>\u001b[39m\u001b[23m           \u001b[3m\u001b[90m<dbl>\u001b[39m\u001b[23m          \u001b[3m\u001b[90m<dbl>\u001b[39m\u001b[23m            \u001b[3m\u001b[90m<dbl>\u001b[39m\u001b[23m\n",
      "\u001b[90m 1\u001b[39m \u001b[4m1\u001b[24m503\u001b[4m9\u001b[24m\u001b[4m6\u001b[24m\u001b[4m0\u001b[24m366 2016-04-12       \u001b[4m1\u001b[24m\u001b[4m3\u001b[24m162           8.5              8.5 \n",
      "\u001b[90m 2\u001b[39m \u001b[4m1\u001b[24m503\u001b[4m9\u001b[24m\u001b[4m6\u001b[24m\u001b[4m0\u001b[24m366 2016-04-13       \u001b[4m1\u001b[24m\u001b[4m0\u001b[24m735           6.97             6.97\n",
      "\u001b[90m 3\u001b[39m \u001b[4m1\u001b[24m503\u001b[4m9\u001b[24m\u001b[4m6\u001b[24m\u001b[4m0\u001b[24m366 2016-04-14       \u001b[4m1\u001b[24m\u001b[4m0\u001b[24m460           6.74             6.74\n",
      "\u001b[90m 4\u001b[39m \u001b[4m1\u001b[24m503\u001b[4m9\u001b[24m\u001b[4m6\u001b[24m\u001b[4m0\u001b[24m366 2016-04-15        \u001b[4m9\u001b[24m762           6.28             6.28\n",
      "\u001b[90m 5\u001b[39m \u001b[4m1\u001b[24m503\u001b[4m9\u001b[24m\u001b[4m6\u001b[24m\u001b[4m0\u001b[24m366 2016-04-16       \u001b[4m1\u001b[24m\u001b[4m2\u001b[24m669           8.16             8.16\n",
      "\u001b[90m 6\u001b[39m \u001b[4m1\u001b[24m503\u001b[4m9\u001b[24m\u001b[4m6\u001b[24m\u001b[4m0\u001b[24m366 2016-04-17        \u001b[4m9\u001b[24m705           6.48             6.48\n",
      "\u001b[90m 7\u001b[39m \u001b[4m1\u001b[24m503\u001b[4m9\u001b[24m\u001b[4m6\u001b[24m\u001b[4m0\u001b[24m366 2016-04-18       \u001b[4m1\u001b[24m\u001b[4m3\u001b[24m019           8.59             8.59\n",
      "\u001b[90m 8\u001b[39m \u001b[4m1\u001b[24m503\u001b[4m9\u001b[24m\u001b[4m6\u001b[24m\u001b[4m0\u001b[24m366 2016-04-19       \u001b[4m1\u001b[24m\u001b[4m5\u001b[24m506           9.88             9.88\n",
      "\u001b[90m 9\u001b[39m \u001b[4m1\u001b[24m503\u001b[4m9\u001b[24m\u001b[4m6\u001b[24m\u001b[4m0\u001b[24m366 2016-04-20       \u001b[4m1\u001b[24m\u001b[4m0\u001b[24m544           6.68             6.68\n",
      "\u001b[90m10\u001b[39m \u001b[4m1\u001b[24m503\u001b[4m9\u001b[24m\u001b[4m6\u001b[24m\u001b[4m0\u001b[24m366 2016-04-21        \u001b[4m9\u001b[24m819           6.34             6.34\n",
      "\u001b[90m# ℹ 930 more rows\u001b[39m\n",
      "\u001b[90m# ℹ 10 more variables: logged_activities_distance <dbl>,\u001b[39m\n",
      "\u001b[90m#   very_active_distance <dbl>, moderately_active_distance <dbl>,\u001b[39m\n",
      "\u001b[90m#   light_active_distance <dbl>, sedentary_active_distance <dbl>,\u001b[39m\n",
      "\u001b[90m#   very_active_minutes <dbl>, fairly_active_minutes <dbl>,\u001b[39m\n",
      "\u001b[90m#   lightly_active_minutes <dbl>, sedentary_minutes <dbl>, calories <dbl>\u001b[39m\n"
     ]
    }
   ],
   "source": [
    "# Convert date to Date type\n",
    "daily_activity1$date <- as.Date(daily_activity1$date, format=\"%m/%d/%Y\")\n",
    "\n",
    "print(daily_activity1)"
   ]
  },
  {
   "cell_type": "code",
   "execution_count": 15,
   "metadata": {},
   "outputs": [
    {
     "name": "stdout",
     "output_type": "stream",
     "text": [
      "\u001b[90m# A tibble: 940 × 3\u001b[39m\n",
      "           id date       calories\n",
      "        \u001b[3m\u001b[90m<dbl>\u001b[39m\u001b[23m \u001b[3m\u001b[90m<date>\u001b[39m\u001b[23m        \u001b[3m\u001b[90m<dbl>\u001b[39m\u001b[23m\n",
      "\u001b[90m 1\u001b[39m \u001b[4m1\u001b[24m503\u001b[4m9\u001b[24m\u001b[4m6\u001b[24m\u001b[4m0\u001b[24m366 2016-04-12     \u001b[4m1\u001b[24m985\n",
      "\u001b[90m 2\u001b[39m \u001b[4m1\u001b[24m503\u001b[4m9\u001b[24m\u001b[4m6\u001b[24m\u001b[4m0\u001b[24m366 2016-04-13     \u001b[4m1\u001b[24m797\n",
      "\u001b[90m 3\u001b[39m \u001b[4m1\u001b[24m503\u001b[4m9\u001b[24m\u001b[4m6\u001b[24m\u001b[4m0\u001b[24m366 2016-04-14     \u001b[4m1\u001b[24m776\n",
      "\u001b[90m 4\u001b[39m \u001b[4m1\u001b[24m503\u001b[4m9\u001b[24m\u001b[4m6\u001b[24m\u001b[4m0\u001b[24m366 2016-04-15     \u001b[4m1\u001b[24m745\n",
      "\u001b[90m 5\u001b[39m \u001b[4m1\u001b[24m503\u001b[4m9\u001b[24m\u001b[4m6\u001b[24m\u001b[4m0\u001b[24m366 2016-04-16     \u001b[4m1\u001b[24m863\n",
      "\u001b[90m 6\u001b[39m \u001b[4m1\u001b[24m503\u001b[4m9\u001b[24m\u001b[4m6\u001b[24m\u001b[4m0\u001b[24m366 2016-04-17     \u001b[4m1\u001b[24m728\n",
      "\u001b[90m 7\u001b[39m \u001b[4m1\u001b[24m503\u001b[4m9\u001b[24m\u001b[4m6\u001b[24m\u001b[4m0\u001b[24m366 2016-04-18     \u001b[4m1\u001b[24m921\n",
      "\u001b[90m 8\u001b[39m \u001b[4m1\u001b[24m503\u001b[4m9\u001b[24m\u001b[4m6\u001b[24m\u001b[4m0\u001b[24m366 2016-04-19     \u001b[4m2\u001b[24m035\n",
      "\u001b[90m 9\u001b[39m \u001b[4m1\u001b[24m503\u001b[4m9\u001b[24m\u001b[4m6\u001b[24m\u001b[4m0\u001b[24m366 2016-04-20     \u001b[4m1\u001b[24m786\n",
      "\u001b[90m10\u001b[39m \u001b[4m1\u001b[24m503\u001b[4m9\u001b[24m\u001b[4m6\u001b[24m\u001b[4m0\u001b[24m366 2016-04-21     \u001b[4m1\u001b[24m775\n",
      "\u001b[90m# ℹ 930 more rows\u001b[39m\n",
      "\u001b[90m# A tibble: 940 × 10\u001b[39m\n",
      "           id date       sedentary_minutes lightly_active_minutes\n",
      "        \u001b[3m\u001b[90m<dbl>\u001b[39m\u001b[23m \u001b[3m\u001b[90m<date>\u001b[39m\u001b[23m                 \u001b[3m\u001b[90m<dbl>\u001b[39m\u001b[23m                  \u001b[3m\u001b[90m<dbl>\u001b[39m\u001b[23m\n",
      "\u001b[90m 1\u001b[39m \u001b[4m1\u001b[24m503\u001b[4m9\u001b[24m\u001b[4m6\u001b[24m\u001b[4m0\u001b[24m366 2016-04-12               728                    328\n",
      "\u001b[90m 2\u001b[39m \u001b[4m1\u001b[24m503\u001b[4m9\u001b[24m\u001b[4m6\u001b[24m\u001b[4m0\u001b[24m366 2016-04-13               776                    217\n",
      "\u001b[90m 3\u001b[39m \u001b[4m1\u001b[24m503\u001b[4m9\u001b[24m\u001b[4m6\u001b[24m\u001b[4m0\u001b[24m366 2016-04-14              \u001b[4m1\u001b[24m218                    181\n",
      "\u001b[90m 4\u001b[39m \u001b[4m1\u001b[24m503\u001b[4m9\u001b[24m\u001b[4m6\u001b[24m\u001b[4m0\u001b[24m366 2016-04-15               726                    209\n",
      "\u001b[90m 5\u001b[39m \u001b[4m1\u001b[24m503\u001b[4m9\u001b[24m\u001b[4m6\u001b[24m\u001b[4m0\u001b[24m366 2016-04-16               773                    221\n",
      "\u001b[90m 6\u001b[39m \u001b[4m1\u001b[24m503\u001b[4m9\u001b[24m\u001b[4m6\u001b[24m\u001b[4m0\u001b[24m366 2016-04-17               539                    164\n",
      "\u001b[90m 7\u001b[39m \u001b[4m1\u001b[24m503\u001b[4m9\u001b[24m\u001b[4m6\u001b[24m\u001b[4m0\u001b[24m366 2016-04-18              \u001b[4m1\u001b[24m149                    233\n",
      "\u001b[90m 8\u001b[39m \u001b[4m1\u001b[24m503\u001b[4m9\u001b[24m\u001b[4m6\u001b[24m\u001b[4m0\u001b[24m366 2016-04-19               775                    264\n",
      "\u001b[90m 9\u001b[39m \u001b[4m1\u001b[24m503\u001b[4m9\u001b[24m\u001b[4m6\u001b[24m\u001b[4m0\u001b[24m366 2016-04-20               818                    205\n",
      "\u001b[90m10\u001b[39m \u001b[4m1\u001b[24m503\u001b[4m9\u001b[24m\u001b[4m6\u001b[24m\u001b[4m0\u001b[24m366 2016-04-21               838                    211\n",
      "\u001b[90m# ℹ 930 more rows\u001b[39m\n",
      "\u001b[90m# ℹ 6 more variables: fairly_active_minutes <dbl>, very_active_minutes <dbl>,\u001b[39m\n",
      "\u001b[90m#   sedentary_active_distance <dbl>, light_active_distance <dbl>,\u001b[39m\n",
      "\u001b[90m#   moderately_active_distance <dbl>, very_active_distance <dbl>\u001b[39m\n",
      "\u001b[90m# A tibble: 413 × 5\u001b[39m\n",
      "        id date       total_sleep_records total_minutes_asleep total_time_in_bed\n",
      "     \u001b[3m\u001b[90m<dbl>\u001b[39m\u001b[23m \u001b[3m\u001b[90m<date>\u001b[39m\u001b[23m                   \u001b[3m\u001b[90m<dbl>\u001b[39m\u001b[23m                \u001b[3m\u001b[90m<dbl>\u001b[39m\u001b[23m             \u001b[3m\u001b[90m<dbl>\u001b[39m\u001b[23m\n",
      "\u001b[90m 1\u001b[39m  1.50\u001b[90me\u001b[39m9 2016-04-12                   1                  327               346\n",
      "\u001b[90m 2\u001b[39m  1.50\u001b[90me\u001b[39m9 2016-04-13                   2                  384               407\n",
      "\u001b[90m 3\u001b[39m  1.50\u001b[90me\u001b[39m9 2016-04-15                   1                  412               442\n",
      "\u001b[90m 4\u001b[39m  1.50\u001b[90me\u001b[39m9 2016-04-16                   2                  340               367\n",
      "\u001b[90m 5\u001b[39m  1.50\u001b[90me\u001b[39m9 2016-04-17                   1                  700               712\n",
      "\u001b[90m 6\u001b[39m  1.50\u001b[90me\u001b[39m9 2016-04-19                   1                  304               320\n",
      "\u001b[90m 7\u001b[39m  1.50\u001b[90me\u001b[39m9 2016-04-20                   1                  360               377\n",
      "\u001b[90m 8\u001b[39m  1.50\u001b[90me\u001b[39m9 2016-04-21                   1                  325               364\n",
      "\u001b[90m 9\u001b[39m  1.50\u001b[90me\u001b[39m9 2016-04-23                   1                  361               384\n",
      "\u001b[90m10\u001b[39m  1.50\u001b[90me\u001b[39m9 2016-04-24                   1                  430               449\n",
      "\u001b[90m# ℹ 403 more rows\u001b[39m\n",
      "\u001b[90m# A tibble: 940 × 3\u001b[39m\n",
      "           id date       step_total\n",
      "        \u001b[3m\u001b[90m<dbl>\u001b[39m\u001b[23m \u001b[3m\u001b[90m<date>\u001b[39m\u001b[23m          \u001b[3m\u001b[90m<dbl>\u001b[39m\u001b[23m\n",
      "\u001b[90m 1\u001b[39m \u001b[4m1\u001b[24m503\u001b[4m9\u001b[24m\u001b[4m6\u001b[24m\u001b[4m0\u001b[24m366 2016-04-12      \u001b[4m1\u001b[24m\u001b[4m3\u001b[24m162\n",
      "\u001b[90m 2\u001b[39m \u001b[4m1\u001b[24m503\u001b[4m9\u001b[24m\u001b[4m6\u001b[24m\u001b[4m0\u001b[24m366 2016-04-13      \u001b[4m1\u001b[24m\u001b[4m0\u001b[24m735\n",
      "\u001b[90m 3\u001b[39m \u001b[4m1\u001b[24m503\u001b[4m9\u001b[24m\u001b[4m6\u001b[24m\u001b[4m0\u001b[24m366 2016-04-14      \u001b[4m1\u001b[24m\u001b[4m0\u001b[24m460\n",
      "\u001b[90m 4\u001b[39m \u001b[4m1\u001b[24m503\u001b[4m9\u001b[24m\u001b[4m6\u001b[24m\u001b[4m0\u001b[24m366 2016-04-15       \u001b[4m9\u001b[24m762\n",
      "\u001b[90m 5\u001b[39m \u001b[4m1\u001b[24m503\u001b[4m9\u001b[24m\u001b[4m6\u001b[24m\u001b[4m0\u001b[24m366 2016-04-16      \u001b[4m1\u001b[24m\u001b[4m2\u001b[24m669\n",
      "\u001b[90m 6\u001b[39m \u001b[4m1\u001b[24m503\u001b[4m9\u001b[24m\u001b[4m6\u001b[24m\u001b[4m0\u001b[24m366 2016-04-17       \u001b[4m9\u001b[24m705\n",
      "\u001b[90m 7\u001b[39m \u001b[4m1\u001b[24m503\u001b[4m9\u001b[24m\u001b[4m6\u001b[24m\u001b[4m0\u001b[24m366 2016-04-18      \u001b[4m1\u001b[24m\u001b[4m3\u001b[24m019\n",
      "\u001b[90m 8\u001b[39m \u001b[4m1\u001b[24m503\u001b[4m9\u001b[24m\u001b[4m6\u001b[24m\u001b[4m0\u001b[24m366 2016-04-19      \u001b[4m1\u001b[24m\u001b[4m5\u001b[24m506\n",
      "\u001b[90m 9\u001b[39m \u001b[4m1\u001b[24m503\u001b[4m9\u001b[24m\u001b[4m6\u001b[24m\u001b[4m0\u001b[24m366 2016-04-20      \u001b[4m1\u001b[24m\u001b[4m0\u001b[24m544\n",
      "\u001b[90m10\u001b[39m \u001b[4m1\u001b[24m503\u001b[4m9\u001b[24m\u001b[4m6\u001b[24m\u001b[4m0\u001b[24m366 2016-04-21       \u001b[4m9\u001b[24m819\n",
      "\u001b[90m# ℹ 930 more rows\u001b[39m\n"
     ]
    }
   ],
   "source": [
    "#convert date for other datasets in a similar way\n",
    "\n",
    "daily_cal1$date <- as.Date(daily_cal1$date, format= \"%m/%d/%Y\")\n",
    "print(daily_cal1)\n",
    "\n",
    "daily_ints1$date <- as.Date(daily_ints1$date, format= \"%m/%d/%Y\" )\n",
    "print(daily_ints1)\n",
    "\n",
    "daily_sleep1$date <- as.Date(daily_sleep1$date, format =\"%m/%d/%Y\")\n",
    "print(daily_sleep1)\n",
    "\n",
    "daily_steps1$date <- as.Date(daily_steps1$date, format = \"%m/%d/%Y\")\n",
    "print(daily_steps1)"
   ]
  },
  {
   "cell_type": "markdown",
   "metadata": {},
   "source": [
    "## Task 4: Analyse & Task 5: Share\n",
    "\n",
    "To analyse the data and see trends in how Fitbit users use their devices, I will adopt a structured approach. This involves starting with summarising the data, followed by interpreting and visualising the trends. The analysis **(Task 4)** and sharing of findings **(Task 5)** will be **conducted in parallel** to ensure a **smooth and efficient workflow**, making it easier for stakeholders to grasp.\n",
    "\n",
    "Let's begin with the process:"
   ]
  },
  {
   "cell_type": "code",
   "execution_count": 16,
   "metadata": {},
   "outputs": [
    {
     "data": {
      "text/plain": [
       "  total_steps    total_distance      calories   \n",
       " Min.   :    0   Min.   : 0.000   Min.   :   0  \n",
       " 1st Qu.: 3790   1st Qu.: 2.620   1st Qu.:1828  \n",
       " Median : 7406   Median : 5.245   Median :2134  \n",
       " Mean   : 7638   Mean   : 5.490   Mean   :2304  \n",
       " 3rd Qu.:10727   3rd Qu.: 7.713   3rd Qu.:2793  \n",
       " Max.   :36019   Max.   :28.030   Max.   :4900  "
      ]
     },
     "metadata": {},
     "output_type": "display_data"
    },
    {
     "data": {
      "text/plain": [
       " very_active_minutes fairly_active_minutes lightly_active_minutes\n",
       " Min.   :  0.00      Min.   :  0.00        Min.   :  0.0         \n",
       " 1st Qu.:  0.00      1st Qu.:  0.00        1st Qu.:127.0         \n",
       " Median :  4.00      Median :  6.00        Median :199.0         \n",
       " Mean   : 21.16      Mean   : 13.56        Mean   :192.8         \n",
       " 3rd Qu.: 32.00      3rd Qu.: 19.00        3rd Qu.:264.0         \n",
       " Max.   :210.00      Max.   :143.00        Max.   :518.0         \n",
       " sedentary_minutes\n",
       " Min.   :   0.0   \n",
       " 1st Qu.: 729.8   \n",
       " Median :1057.5   \n",
       " Mean   : 991.2   \n",
       " 3rd Qu.:1229.5   \n",
       " Max.   :1440.0   "
      ]
     },
     "metadata": {},
     "output_type": "display_data"
    }
   ],
   "source": [
    "#Statistical Summary \n",
    "\n",
    "daily_activity1 %>%\n",
    "  select(total_steps, total_distance, calories) %>%\n",
    "  summary()\n",
    "\n",
    "#Exploring active minutes \n",
    "daily_activity1 %>%\n",
    "  select(very_active_minutes, fairly_active_minutes, lightly_active_minutes, sedentary_minutes) %>%\n",
    "  summary()"
   ]
  },
  {
   "cell_type": "code",
   "execution_count": 17,
   "metadata": {},
   "outputs": [
    {
     "data": {
      "text/plain": [
       " very_active_distance moderately_active_distance light_active_distance\n",
       " Min.   : 0.000       Min.   :0.0000             Min.   : 0.000       \n",
       " 1st Qu.: 0.000       1st Qu.:0.0000             1st Qu.: 1.945       \n",
       " Median : 0.210       Median :0.2400             Median : 3.365       \n",
       " Mean   : 1.503       Mean   :0.5675             Mean   : 3.341       \n",
       " 3rd Qu.: 2.053       3rd Qu.:0.8000             3rd Qu.: 4.782       \n",
       " Max.   :21.920       Max.   :6.4800             Max.   :10.710       \n",
       " sedentary_active_distance\n",
       " Min.   :0.000000         \n",
       " 1st Qu.:0.000000         \n",
       " Median :0.000000         \n",
       " Mean   :0.001606         \n",
       " 3rd Qu.:0.000000         \n",
       " Max.   :0.110000         "
      ]
     },
     "metadata": {},
     "output_type": "display_data"
    }
   ],
   "source": [
    "daily_activity1 %>%\n",
    "  select(very_active_distance, moderately_active_distance, light_active_distance, sedentary_active_distance) %>%\n",
    "  summary()"
   ]
  },
  {
   "cell_type": "code",
   "execution_count": 18,
   "metadata": {},
   "outputs": [
    {
     "data": {
      "text/plain": [
       " total_sleep_records total_minutes_asleep total_time_in_bed\n",
       " Min.   :1.000       Min.   : 58.0        Min.   : 61.0    \n",
       " 1st Qu.:1.000       1st Qu.:361.0        1st Qu.:403.0    \n",
       " Median :1.000       Median :433.0        Median :463.0    \n",
       " Mean   :1.119       Mean   :419.5        Mean   :458.6    \n",
       " 3rd Qu.:1.000       3rd Qu.:490.0        3rd Qu.:526.0    \n",
       " Max.   :3.000       Max.   :796.0        Max.   :961.0    "
      ]
     },
     "metadata": {},
     "output_type": "display_data"
    }
   ],
   "source": [
    "daily_sleep1 %>%\n",
    "  select(total_sleep_records, total_minutes_asleep, total_time_in_bed) %>%\n",
    "  summary()"
   ]
  },
  {
   "cell_type": "code",
   "execution_count": 19,
   "metadata": {},
   "outputs": [
    {
     "data": {
      "text/plain": [
       " sedentary_minutes lightly_active_minutes fairly_active_minutes\n",
       " Min.   :   0.0    Min.   :  0.0          Min.   :  0.00       \n",
       " 1st Qu.: 729.8    1st Qu.:127.0          1st Qu.:  0.00       \n",
       " Median :1057.5    Median :199.0          Median :  6.00       \n",
       " Mean   : 991.2    Mean   :192.8          Mean   : 13.56       \n",
       " 3rd Qu.:1229.5    3rd Qu.:264.0          3rd Qu.: 19.00       \n",
       " Max.   :1440.0    Max.   :518.0          Max.   :143.00       \n",
       " very_active_minutes\n",
       " Min.   :  0.00     \n",
       " 1st Qu.:  0.00     \n",
       " Median :  4.00     \n",
       " Mean   : 21.16     \n",
       " 3rd Qu.: 32.00     \n",
       " Max.   :210.00     "
      ]
     },
     "metadata": {},
     "output_type": "display_data"
    }
   ],
   "source": [
    "daily_ints1 %>%\n",
    "  select(sedentary_minutes, lightly_active_minutes, fairly_active_minutes, very_active_minutes) %>%\n",
    "  summary()"
   ]
  },
  {
   "cell_type": "code",
   "execution_count": 20,
   "metadata": {},
   "outputs": [
    {
     "data": {
      "text/plain": [
       " very_active_distance moderately_active_distance light_active_distance\n",
       " Min.   : 0.000       Min.   :0.0000             Min.   : 0.000       \n",
       " 1st Qu.: 0.000       1st Qu.:0.0000             1st Qu.: 1.945       \n",
       " Median : 0.210       Median :0.2400             Median : 3.365       \n",
       " Mean   : 1.503       Mean   :0.5675             Mean   : 3.341       \n",
       " 3rd Qu.: 2.053       3rd Qu.:0.8000             3rd Qu.: 4.782       \n",
       " Max.   :21.920       Max.   :6.4800             Max.   :10.710       \n",
       " sedentary_active_distance\n",
       " Min.   :0.000000         \n",
       " 1st Qu.:0.000000         \n",
       " Median :0.000000         \n",
       " Mean   :0.001606         \n",
       " 3rd Qu.:0.000000         \n",
       " Max.   :0.110000         "
      ]
     },
     "metadata": {},
     "output_type": "display_data"
    }
   ],
   "source": [
    "daily_ints1 %>%\n",
    "  select(very_active_distance, moderately_active_distance, light_active_distance, sedentary_active_distance) %>%\n",
    "  summary()"
   ]
  },
  {
   "cell_type": "code",
   "execution_count": 21,
   "metadata": {},
   "outputs": [
    {
     "data": {
      "text/plain": [
       "   step_total   \n",
       " Min.   :    0  \n",
       " 1st Qu.: 3790  \n",
       " Median : 7406  \n",
       " Mean   : 7638  \n",
       " 3rd Qu.:10727  \n",
       " Max.   :36019  "
      ]
     },
     "metadata": {},
     "output_type": "display_data"
    },
    {
     "name": "stdout",
     "output_type": "stream",
     "text": [
      "[1] 77\n"
     ]
    }
   ],
   "source": [
    "daily_steps1 %>%\n",
    "  select(step_total) %>%\n",
    "  summary()\n",
    "\n",
    "zero_steps_count <-sum(daily_steps1$step_total ==0)\n",
    "print(zero_steps_count)"
   ]
  },
  {
   "cell_type": "code",
   "execution_count": 22,
   "metadata": {},
   "outputs": [
    {
     "data": {
      "text/plain": [
       "    calories   \n",
       " Min.   :   0  \n",
       " 1st Qu.:1828  \n",
       " Median :2134  \n",
       " Mean   :2304  \n",
       " 3rd Qu.:2793  \n",
       " Max.   :4900  "
      ]
     },
     "metadata": {},
     "output_type": "display_data"
    }
   ],
   "source": [
    "daily_cal1 %>%\n",
    "  select(calories) %>%\n",
    "  summary()"
   ]
  },
  {
   "cell_type": "code",
   "execution_count": 23,
   "metadata": {},
   "outputs": [
    {
     "data": {
      "text/plain": [
       "\n",
       "\n",
       "Table: Count of Zeros in Daily activity minutes\n",
       "\n",
       "| very_active_minutes| fairly_active_minutes| lightly_active_minutes| sedentary_minutes|\n",
       "|-------------------:|---------------------:|----------------------:|-----------------:|\n",
       "|                 409|                   384|                     84|                 1|"
      ]
     },
     "metadata": {},
     "output_type": "display_data"
    },
    {
     "data": {
      "text/plain": [
       "\n",
       "\n",
       "Table: Count of Zeros in Daily calories\n",
       "\n",
       "|  x|\n",
       "|--:|\n",
       "|  4|"
      ]
     },
     "metadata": {},
     "output_type": "display_data"
    },
    {
     "data": {
      "text/plain": [
       "\n",
       "\n",
       "Table: Count of Zeros in Daily steps\n",
       "\n",
       "|  x|\n",
       "|--:|\n",
       "| 77|"
      ]
     },
     "metadata": {},
     "output_type": "display_data"
    },
    {
     "data": {
      "text/plain": [
       "\n",
       "\n",
       "Table: Count of Zeros in Daily intensities minute\n",
       "\n",
       "| very_active_minutes| fairly_active_minutes| lightly_active_minutes| sedentary_minutes|\n",
       "|-------------------:|---------------------:|----------------------:|-----------------:|\n",
       "|                 409|                   384|                     84|                 1|"
      ]
     },
     "metadata": {},
     "output_type": "display_data"
    }
   ],
   "source": [
    "#Count of zeros \n",
    "\n",
    "zero_counts_dailyact <- daily_activity1 %>%\n",
    "  summarise(across(c(very_active_minutes,fairly_active_minutes,lightly_active_minutes,sedentary_minutes), ~sum(. ==0)))\n",
    "\n",
    "kable(zero_counts_dailyact, caption = \"Count of Zeros in Daily activity minutes\")\n",
    "\n",
    "zero_calories_count <- sum(daily_cal1$calories == 0)\n",
    "kable(zero_calories_count,  caption = \"Count of Zeros in Daily calories\")\n",
    "\n",
    "zero_steps_count <-sum(daily_steps1$step_total ==0)\n",
    "kable(zero_steps_count,  caption = \"Count of Zeros in Daily steps\")\n",
    "\n",
    "zero_ints_counts <- daily_ints1 %>%\n",
    "  summarise(across(c(very_active_minutes, fairly_active_minutes, lightly_active_minutes, sedentary_minutes), ~sum(.==0)))\n",
    "kable(zero_ints_counts,  caption = \"Count of Zeros in Daily intensities minute\")"
   ]
  },
  {
   "cell_type": "markdown",
   "metadata": {},
   "source": [
    "### Observations so far\n",
    "\n",
    "* Total number of rows are 940 out which very active and fairly active mintues have high count of **0** in it, which indicates most users are lightly active and sedantary.\n",
    "\n",
    "* The minimum values in statistical summaries indicate that there are days when some users have no recorded activity,          distance, or calories burned. This could be due to various reasons such as not wearing the          device or data recording errors.\n",
    "\n",
    "* A significant amount of time is spent sedentary, with a median of **1057.5       minutes (approximately 17.6 hours)** per day, which is concerning from a health perspective.\n",
    "\n",
    "* Users generally have low very active and fairly active minutes, suggesting most users engage in light activity or are sedentary.\n",
    "\n",
    "*  Most users have one recorded sleep session per day.\n",
    "\n",
    "* The average sleep duration is around **7 hours**, with typical users sleeping between 6 to 8 hours. However, some users have extremely short or long sleep durations.\n",
    "\n",
    "* Users spend a significant amount of time sedentary, with an average of around **16.5 hours** per day. This indicates a high level of inactivity.\n",
    "\n",
    "* Users spend around **3.2 hours** per day on light activities, with most users engaging in some light activity daily.\n",
    "\n",
    "* The mean **(2304 calories)** is slightly higher than the median **(2134 calories)**, indicating that the data is slightly right-skewed. This suggests that while most users burn a moderate number of calories, a few users burn significantly more, pulling the mean higher.\n",
    "\n",
    "* The low count of zeros in lightly_active_minutes (**84**) and light_active_distance (**85**) suggests that users predominantly engage in light activities."
   ]
  },
  {
   "cell_type": "markdown",
   "metadata": {},
   "source": [
    " #### Now we will look deeper into hourly datasets to go in more depth and find corelations if any.\n",
    " \n",
    " Let's start with loading the files and cleaning their column names."
   ]
  },
  {
   "cell_type": "code",
   "execution_count": 25,
   "metadata": {},
   "outputs": [
    {
     "name": "stderr",
     "output_type": "stream",
     "text": [
      "\u001b[1mRows: \u001b[22m\u001b[34m22099\u001b[39m \u001b[1mColumns: \u001b[22m\u001b[34m3\u001b[39m\n",
      "\u001b[36m──\u001b[39m \u001b[1mColumn specification\u001b[22m \u001b[36m────────────────────────────────────────────────────────────────────────────────────────────────\u001b[39m\n",
      "\u001b[1mDelimiter:\u001b[22m \",\"\n",
      "\u001b[31mchr\u001b[39m (1): ActivityHour\n",
      "\u001b[32mdbl\u001b[39m (2): Id, StepTotal\n",
      "\n",
      "\u001b[36mℹ\u001b[39m Use `spec()` to retrieve the full column specification for this data.\n",
      "\u001b[36mℹ\u001b[39m Specify the column types or set `show_col_types = FALSE` to quiet this message.\n",
      "\u001b[1mRows: \u001b[22m\u001b[34m22099\u001b[39m \u001b[1mColumns: \u001b[22m\u001b[34m4\u001b[39m\n",
      "\u001b[36m──\u001b[39m \u001b[1mColumn specification\u001b[22m \u001b[36m────────────────────────────────────────────────────────────────────────────────────────────────\u001b[39m\n",
      "\u001b[1mDelimiter:\u001b[22m \",\"\n",
      "\u001b[31mchr\u001b[39m (1): ActivityHour\n",
      "\u001b[32mdbl\u001b[39m (3): Id, TotalIntensity, AverageIntensity\n",
      "\n",
      "\u001b[36mℹ\u001b[39m Use `spec()` to retrieve the full column specification for this data.\n",
      "\u001b[36mℹ\u001b[39m Specify the column types or set `show_col_types = FALSE` to quiet this message.\n",
      "\u001b[1mRows: \u001b[22m\u001b[34m22099\u001b[39m \u001b[1mColumns: \u001b[22m\u001b[34m3\u001b[39m\n",
      "\u001b[36m──\u001b[39m \u001b[1mColumn specification\u001b[22m \u001b[36m────────────────────────────────────────────────────────────────────────────────────────────────\u001b[39m\n",
      "\u001b[1mDelimiter:\u001b[22m \",\"\n",
      "\u001b[31mchr\u001b[39m (1): ActivityHour\n",
      "\u001b[32mdbl\u001b[39m (2): Id, Calories\n",
      "\n",
      "\u001b[36mℹ\u001b[39m Use `spec()` to retrieve the full column specification for this data.\n",
      "\u001b[36mℹ\u001b[39m Specify the column types or set `show_col_types = FALSE` to quiet this message.\n"
     ]
    }
   ],
   "source": [
    "hourly_steps <- clean_names(read_csv(\"C:/Users/91858/Downloads/kaggle data/hourlySteps_merged.csv\"))\n",
    "\n",
    "hourly_ints <- clean_names(read_csv(\"C:/Users/91858/Downloads/kaggle data/hourlyIntensities_merged.csv\"))\n",
    "\n",
    "hourly_cal <- clean_names(read_csv(\"C:/Users/91858/Downloads/kaggle data/hourlyCalories_merged.csv\")) "
   ]
  },
  {
   "cell_type": "code",
   "execution_count": 26,
   "metadata": {},
   "outputs": [
    {
     "name": "stdout",
     "output_type": "stream",
     "text": [
      "\u001b[90m# A tibble: 22,099 × 4\u001b[39m\n",
      "           id activity_hour       step_total hour \n",
      "        \u001b[3m\u001b[90m<dbl>\u001b[39m\u001b[23m \u001b[3m\u001b[90m<dttm>\u001b[39m\u001b[23m                   \u001b[3m\u001b[90m<dbl>\u001b[39m\u001b[23m \u001b[3m\u001b[90m<chr>\u001b[39m\u001b[23m\n",
      "\u001b[90m 1\u001b[39m \u001b[4m1\u001b[24m503\u001b[4m9\u001b[24m\u001b[4m6\u001b[24m\u001b[4m0\u001b[24m366 2016-04-12 \u001b[90m00:00:00\u001b[39m        373 12 AM\n",
      "\u001b[90m 2\u001b[39m \u001b[4m1\u001b[24m503\u001b[4m9\u001b[24m\u001b[4m6\u001b[24m\u001b[4m0\u001b[24m366 2016-04-12 \u001b[90m01:00:00\u001b[39m        160 01 AM\n",
      "\u001b[90m 3\u001b[39m \u001b[4m1\u001b[24m503\u001b[4m9\u001b[24m\u001b[4m6\u001b[24m\u001b[4m0\u001b[24m366 2016-04-12 \u001b[90m02:00:00\u001b[39m        151 02 AM\n",
      "\u001b[90m 4\u001b[39m \u001b[4m1\u001b[24m503\u001b[4m9\u001b[24m\u001b[4m6\u001b[24m\u001b[4m0\u001b[24m366 2016-04-12 \u001b[90m03:00:00\u001b[39m          0 03 AM\n",
      "\u001b[90m 5\u001b[39m \u001b[4m1\u001b[24m503\u001b[4m9\u001b[24m\u001b[4m6\u001b[24m\u001b[4m0\u001b[24m366 2016-04-12 \u001b[90m04:00:00\u001b[39m          0 04 AM\n",
      "\u001b[90m 6\u001b[39m \u001b[4m1\u001b[24m503\u001b[4m9\u001b[24m\u001b[4m6\u001b[24m\u001b[4m0\u001b[24m366 2016-04-12 \u001b[90m05:00:00\u001b[39m          0 05 AM\n",
      "\u001b[90m 7\u001b[39m \u001b[4m1\u001b[24m503\u001b[4m9\u001b[24m\u001b[4m6\u001b[24m\u001b[4m0\u001b[24m366 2016-04-12 \u001b[90m06:00:00\u001b[39m          0 06 AM\n",
      "\u001b[90m 8\u001b[39m \u001b[4m1\u001b[24m503\u001b[4m9\u001b[24m\u001b[4m6\u001b[24m\u001b[4m0\u001b[24m366 2016-04-12 \u001b[90m07:00:00\u001b[39m          0 07 AM\n",
      "\u001b[90m 9\u001b[39m \u001b[4m1\u001b[24m503\u001b[4m9\u001b[24m\u001b[4m6\u001b[24m\u001b[4m0\u001b[24m366 2016-04-12 \u001b[90m08:00:00\u001b[39m        250 08 AM\n",
      "\u001b[90m10\u001b[39m \u001b[4m1\u001b[24m503\u001b[4m9\u001b[24m\u001b[4m6\u001b[24m\u001b[4m0\u001b[24m366 2016-04-12 \u001b[90m09:00:00\u001b[39m       \u001b[4m1\u001b[24m864 09 AM\n",
      "\u001b[90m# ℹ 22,089 more rows\u001b[39m\n"
     ]
    }
   ],
   "source": [
    "# Next we fix the date-time format for  hourly steps datasets \n",
    "hourly_steps$activity_hour <- as.POSIXct(hourly_steps$activity_hour, format=\"%m/%d/%Y %I:%M:%S %p\", tz=Sys.timezone())\n",
    "\n",
    "hourly_steps$hour <- format(hourly_steps$activity_hour, \"%I %p\")\n",
    "\n",
    "print(hourly_steps)"
   ]
  },
  {
   "cell_type": "code",
   "execution_count": 27,
   "metadata": {},
   "outputs": [
    {
     "name": "stdout",
     "output_type": "stream",
     "text": [
      "\u001b[90m# A tibble: 24 × 2\u001b[39m\n",
      "   hour  total_steps\n",
      "   \u001b[3m\u001b[90m<chr>\u001b[39m\u001b[23m       \u001b[3m\u001b[90m<dbl>\u001b[39m\u001b[23m\n",
      "\u001b[90m 1\u001b[39m 01 AM       \u001b[4m2\u001b[24m\u001b[4m1\u001b[24m555\n",
      "\u001b[90m 2\u001b[39m 01 PM      \u001b[4m4\u001b[24m\u001b[4m9\u001b[24m\u001b[4m5\u001b[24m220\n",
      "\u001b[90m 3\u001b[39m 02 AM       \u001b[4m1\u001b[24m\u001b[4m5\u001b[24m964\n",
      "\u001b[90m 4\u001b[39m 02 PM      \u001b[4m4\u001b[24m\u001b[4m9\u001b[24m\u001b[4m7\u001b[24m813\n",
      "\u001b[90m 5\u001b[39m 03 AM        \u001b[4m5\u001b[24m996\n",
      "\u001b[90m 6\u001b[39m 03 PM      \u001b[4m3\u001b[24m\u001b[4m7\u001b[24m\u001b[4m1\u001b[24m782\n",
      "\u001b[90m 7\u001b[39m 04 AM       \u001b[4m1\u001b[24m\u001b[4m1\u001b[24m836\n",
      "\u001b[90m 8\u001b[39m 04 PM      \u001b[4m4\u001b[24m\u001b[4m5\u001b[24m\u001b[4m0\u001b[24m639\n",
      "\u001b[90m 9\u001b[39m 05 AM       \u001b[4m4\u001b[24m\u001b[4m0\u001b[24m886\n",
      "\u001b[90m10\u001b[39m 05 PM      \u001b[4m4\u001b[24m\u001b[4m9\u001b[24m\u001b[4m8\u001b[24m511\n",
      "\u001b[90m# ℹ 14 more rows\u001b[39m\n"
     ]
    }
   ],
   "source": [
    "# Group the hourly steps data by hour and summarize the total steps for each hour\n",
    "\n",
    "aggregated_steps <- hourly_steps %>%\n",
    "  group_by(hour) %>%\n",
    "  summarise(total_steps = sum(step_total, na.rm = TRUE))\n",
    "\n",
    "print(aggregated_steps)"
   ]
  },
  {
   "cell_type": "code",
   "execution_count": 28,
   "metadata": {},
   "outputs": [
    {
     "data": {
      "image/png": "[encoded data removed]",
      "text/plain": [
       "plot without title"
      ]
     },
     "metadata": {
      "image/png": {
       "height": 420,
       "width": 420
      }
     },
     "output_type": "display_data"
    }
   ],
   "source": [
    "# Create a bar plot for total steps aggregated by hour\n",
    "\n",
    "p1 <- ggplot(aggregated_steps, aes(x = hour, y = total_steps)) +\n",
    "  geom_col(fill = \"blue\", color = \"black\") +\n",
    "  labs(title = \"Distribution of Steps Over Hours\", x = \"Hour of the Day\", y = \"Total Steps\") +\n",
    "  scale_x_discrete(limits = c(\"12 AM\", \"01 AM\", \"02 AM\", \"03 AM\", \"04 AM\", \"05 AM\", \"06 AM\", \"07 AM\", \"08 AM\", \"09 AM\", \"10 AM\", \"11 AM\", \n",
    "                              \"12 PM\", \"01 PM\", \"02 PM\", \"03 PM\", \"04 PM\", \"05 PM\", \"06 PM\", \"07 PM\", \"08 PM\", \"09 PM\", \"10 PM\", \"11 PM\")) +\n",
    "  theme_minimal() +\n",
    "  theme(\n",
    "      axis.text.x = element_text(angle = 45, hjust = 1),\n",
    "        plot.title = element_text(hjust=0.5)\n",
    "      )\n",
    "\n",
    "print (p1)"
   ]
  },
  {
   "cell_type": "markdown",
   "metadata": {},
   "source": [
    "#### Next, I  repeat the same steps for other hourly datasets to plot the bar charts."
   ]
  },
  {
   "cell_type": "code",
   "execution_count": 29,
   "metadata": {},
   "outputs": [
    {
     "name": "stdout",
     "output_type": "stream",
     "text": [
      "\u001b[90m# A tibble: 24 × 2\u001b[39m\n",
      "   hour  total_ints\n",
      "   \u001b[3m\u001b[90m<chr>\u001b[39m\u001b[23m      \u001b[3m\u001b[90m<dbl>\u001b[39m\u001b[23m\n",
      "\u001b[90m 1\u001b[39m 01 AM       \u001b[4m1\u001b[24m324\n",
      "\u001b[90m 2\u001b[39m 01 PM      \u001b[4m1\u001b[24m\u001b[4m7\u001b[24m292\n",
      "\u001b[90m 3\u001b[39m 02 AM        974\n",
      "\u001b[90m 4\u001b[39m 02 PM      \u001b[4m1\u001b[24m\u001b[4m7\u001b[24m378\n",
      "\u001b[90m 5\u001b[39m 03 AM        414\n",
      "\u001b[90m 6\u001b[39m 03 PM      \u001b[4m1\u001b[24m\u001b[4m4\u001b[24m260\n",
      "\u001b[90m 7\u001b[39m 04 AM        590\n",
      "\u001b[90m 8\u001b[39m 04 PM      \u001b[4m1\u001b[24m\u001b[4m6\u001b[24m069\n",
      "\u001b[90m 9\u001b[39m 05 AM       \u001b[4m4\u001b[24m614\n",
      "\u001b[90m10\u001b[39m 05 PM      \u001b[4m1\u001b[24m\u001b[4m9\u001b[24m620\n",
      "\u001b[90m# ℹ 14 more rows\u001b[39m\n"
     ]
    }
   ],
   "source": [
    "#Fixing date-time format for intensities dataset\n",
    "hourly_ints$activity_hour <- as.POSIXct(hourly_ints$activity_hour, format=\"%m/%d/%Y %I:%M:%S %p\", tz=Sys.timezone())\n",
    "\n",
    "hourly_ints$hour <- format(hourly_ints$activity_hour, \"%I %p\")\n",
    "\n",
    "#Summarize the total intensities for each hour\n",
    "aggregated_ints <- hourly_ints %>%\n",
    "  group_by(hour) %>%\n",
    "  summarise(total_ints = sum(total_intensity, na.rm=TRUE))\n",
    "\n",
    "print(aggregated_ints)"
   ]
  },
  {
   "cell_type": "code",
   "execution_count": 30,
   "metadata": {},
   "outputs": [
    {
     "data": {
      "image/png": "[encoded data removed]",
      "text/plain": [
       "plot without title"
      ]
     },
     "metadata": {
      "image/png": {
       "height": 420,
       "width": 420
      }
     },
     "output_type": "display_data"
    }
   ],
   "source": [
    "# Barchart for aggregated_ints\n",
    "p2 <- ggplot(aggregated_ints, aes(x=hour, y=total_ints)) +\n",
    "  geom_col(fill = \"blue\", color = \"black\") +\n",
    "  labs(title = \"Distribution of Intensities\", x = \"Hour of the Day\", y = \"Total Intensities\") +\n",
    "  scale_x_discrete(limits = c(\"12 AM\", \"01 AM\", \"02 AM\", \"03 AM\", \"04 AM\", \"05 AM\", \"06 AM\", \"07 AM\", \"08 AM\", \"09 AM\", \"10 AM\", \"11 AM\", \n",
    "                              \"12 PM\", \"01 PM\", \"02 PM\", \"03 PM\", \"04 PM\", \"05 PM\", \"06 PM\", \"07 PM\", \"08 PM\", \"09 PM\", \"10 PM\", \"11 PM\")) +\n",
    "                              \n",
    "  theme_minimal() +\n",
    "  theme(\n",
    "    axis.text.x = element_text(angle = 45, hjust = 1),\n",
    "     plot.title = element_text(hjust=0.5)   \n",
    "        )\n",
    "\n",
    " print(p2)"
   ]
  },
  {
   "cell_type": "code",
   "execution_count": 31,
   "metadata": {},
   "outputs": [
    {
     "name": "stdout",
     "output_type": "stream",
     "text": [
      "\u001b[90m# A tibble: 24 × 2\u001b[39m\n",
      "   hour  total_cal\n",
      "   \u001b[3m\u001b[90m<chr>\u001b[39m\u001b[23m     \u001b[3m\u001b[90m<dbl>\u001b[39m\u001b[23m\n",
      "\u001b[90m 1\u001b[39m 01 AM     \u001b[4m6\u001b[24m\u001b[4m5\u001b[24m464\n",
      "\u001b[90m 2\u001b[39m 01 PM    \u001b[4m1\u001b[24m\u001b[4m0\u001b[24m\u001b[4m6\u001b[24m200\n",
      "\u001b[90m 3\u001b[39m 02 AM     \u001b[4m6\u001b[24m\u001b[4m4\u001b[24m551\n",
      "\u001b[90m 4\u001b[39m 02 PM    \u001b[4m1\u001b[24m\u001b[4m0\u001b[24m\u001b[4m6\u001b[24m590\n",
      "\u001b[90m 5\u001b[39m 03 AM     \u001b[4m6\u001b[24m\u001b[4m3\u001b[24m013\n",
      "\u001b[90m 6\u001b[39m 03 PM     \u001b[4m9\u001b[24m\u001b[4m7\u001b[24m573\n",
      "\u001b[90m 7\u001b[39m 04 AM     \u001b[4m6\u001b[24m\u001b[4m3\u001b[24m620\n",
      "\u001b[90m 8\u001b[39m 04 PM    \u001b[4m1\u001b[24m\u001b[4m0\u001b[24m\u001b[4m2\u001b[24m788\n",
      "\u001b[90m 9\u001b[39m 05 AM     \u001b[4m7\u001b[24m\u001b[4m6\u001b[24m152\n",
      "\u001b[90m10\u001b[39m 05 PM    \u001b[4m1\u001b[24m\u001b[4m1\u001b[24m\u001b[4m1\u001b[24m214\n",
      "\u001b[90m# ℹ 14 more rows\u001b[39m\n"
     ]
    }
   ],
   "source": [
    "# fixing date-time format for calories dataset \n",
    "hourly_cal$activity_hour <- as.POSIXct(hourly_cal$activity_hour, format = \"%m/%d/%Y %I:%M:%S %p\", tz=Sys.timezone())\n",
    "hourly_cal$hour <- format(hourly_cal$activity_hour, \"%I %p\")\n",
    "\n",
    "\n",
    "#Summarize the total calories  for each hour\n",
    "aggregated_cal <- hourly_cal %>%\n",
    "  group_by(hour) %>%\n",
    "  summarise(total_cal =sum(calories, na.rm = TRUE))\n",
    "\n",
    "print(aggregated_cal)"
   ]
  },
  {
   "cell_type": "code",
   "execution_count": 32,
   "metadata": {},
   "outputs": [
    {
     "data": {
      "image/png": "[encoded data removed]",
      "text/plain": [
       "plot without title"
      ]
     },
     "metadata": {
      "image/png": {
       "height": 420,
       "width": 420
      }
     },
     "output_type": "display_data"
    }
   ],
   "source": [
    "# Barchart for aggregated_cal\n",
    "p3 <- ggplot(aggregated_cal, aes(x= hour, y= total_cal)) +\n",
    "  geom_col(fill= \"blue\", color= \"black\") +\n",
    "  labs(title = \"Distribution of Calories\", x= \"Hour of the Day\", y=\"Total Calories\") +\n",
    "  scale_x_discrete(limits = c(\"12 AM\", \"01 AM\", \"02 AM\", \"03 AM\", \"04 AM\", \"05 AM\", \"06 AM\", \"07 AM\", \"08 AM\", \"09 AM\", \"10 AM\", \"11 AM\", \n",
    "                              \"12 PM\", \"01 PM\", \"02 PM\", \"03 PM\", \"04 PM\", \"05 PM\", \"06 PM\", \"07 PM\", \"08 PM\", \"09 PM\", \"10 PM\", \"11 PM\")) +\n",
    "  \n",
    "  theme_minimal() +\n",
    "  \n",
    "  theme(\n",
    "    axis.text.x = element_text(angle = 45, hjust = 1),\n",
    "    plot.title = element_text(hjust=0.5)   \n",
    "  )\n",
    "\n",
    "print(p3)"
   ]
  },
  {
   "cell_type": "code",
   "execution_count": 35,
   "metadata": {},
   "outputs": [
    {
     "data": {
      "image/png": "[encoded data removed]",
      "text/plain": [
       "plot without title"
      ]
     },
     "metadata": {
      "image/png": {
       "height": 420,
       "width": 420
      }
     },
     "output_type": "display_data"
    }
   ],
   "source": [
    "# Combine all three bar charts to see patterns \n",
    "combined_plot <- p1 + p2 + p3 + plot_layout(ncol = 1)\n",
    "\n",
    "# Print the combined plot\n",
    "print(combined_plot)"
   ]
  },
  {
   "cell_type": "markdown",
   "metadata": {},
   "source": [
    "##### Note: \n",
    "\n",
    "* Looking at the data it seems majority of the users are office goers working 9 to 5 job\n",
    "\n",
    "* All three charts show a noticeable increase between 12:00 PM and 2:00 PM. This pattern could be indicative of lunch breaks, where users are more likely to be active, possibly taking walks or engaging in moderate exercise.\n",
    "\n",
    "* Another significant increase is observed between 5:00 PM and 7:00 PM. This likely corresponds to the end of the workday when users may be engaging in physical activities such as exercising, walking, or commuting home.\n",
    "\n",
    "* There is a gradual rise in steps and intensities from 6:00 AM to 8:00 AM. This suggests that many users are engaging in morning routines which could include activities like morning walks, jogs, or commuting work. \n",
    "\n",
    "* Post 7:00 PM, the activity levels start to decline, reflecting users winding down for the day, relaxing, or engaging in less physically demanding activities."
   ]
  },
  {
   "cell_type": "code",
   "execution_count": 37,
   "metadata": {},
   "outputs": [],
   "source": [
    "# Calculate correlation coefficient\n",
    "correlation <- cor(daily_activity1$total_steps, daily_activity1$calories, use = \"complete.obs\")"
   ]
  },
  {
   "cell_type": "code",
   "execution_count": 38,
   "metadata": {},
   "outputs": [
    {
     "data": {
      "image/png": "[encoded data removed]",
      "text/plain": [
       "plot without title"
      ]
     },
     "metadata": {
      "image/png": {
       "height": 420,
       "width": 420
      }
     },
     "output_type": "display_data"
    }
   ],
   "source": [
    "# Plot correlation\n",
    "\n",
    "ggplot(daily_activity1, aes(x = total_steps, y = calories)) +\n",
    "  geom_point(aes(color = calories)) +                        \n",
    "  geom_smooth(method = \"loess\", formula = y ~ x, color = \"blue\") +             \n",
    "  labs(title = \"Total Steps vs Calories\",\n",
    "       x = \"Total Steps\",\n",
    "       y = \"Calories\") +\n",
    "  annotate(\"text\", x = max(daily_activity1$total_steps) * 1.0, \n",
    "           y = max(daily_activity1$calories) * 1.0,\n",
    "           label = paste (\"Correlation:\", round(correlation, 2)), \n",
    "           hjust = 1, vjust = 1, size = 5, color = \"black\") +\n",
    "  theme_minimal() +\n",
    "  theme(plot.title = element_text(hjust=0.5))"
   ]
  },
  {
   "cell_type": "markdown",
   "metadata": {},
   "source": [
    "##### Note:\n",
    "* The scatter plot illustrates a clear positive correlation between total steps and calories burned. This relationship indicates that as the number of steps taken increases, the calories burned also tend to increase.\n",
    "\n",
    "* This trend is visually supported by the upward slope of the loess regression line, reinforcing the connection between higher physical activity levels and greater caloric expenditure."
   ]
  },
  {
   "cell_type": "code",
   "execution_count": 39,
   "metadata": {},
   "outputs": [
    {
     "data": {
      "image/png": "[encoded data removed]",
      "text/plain": [
       "plot without title"
      ]
     },
     "metadata": {
      "image/png": {
       "height": 420,
       "width": 420
      }
     },
     "output_type": "display_data"
    }
   ],
   "source": [
    "#Scatter plots between different type of activities and calories burned\n",
    "\n",
    "g1 <-ggplot(data = daily_activity1,aes(x = very_active_minutes, y = calories)) + \n",
    "  geom_point() + geom_smooth(method = \"loess\", formula = y ~ x, color = \"blue\") +\n",
    "  labs(title = \"Very Active Minutes Vs Calories\") \n",
    "\n",
    "\n",
    "g2<-ggplot(data = daily_activity1,aes(x = fairly_active_minutes, y = calories)) + \n",
    "  geom_point() + geom_smooth(method = \"loess\", formula = y ~ x, color = \"blue\") +             \n",
    "  labs(title = \"Fairly Active Minutes Vs Calories\")\n",
    "\n",
    "g3 <-ggplot(data = daily_activity1,aes(x = lightly_active_minutes, y = calories)) + \n",
    "  geom_point() + geom_smooth(method = \"loess\", formula = y ~ x, color = \"blue\") +             \n",
    "  labs(title = \"Lightly Active Minutes Vs Calories\")\n",
    "\n",
    "\n",
    "g4 <-ggplot(data = daily_activity1,aes(x = sedentary_minutes, y = calories)) + \n",
    "  geom_point() + geom_smooth(method = \"loess\", formula = y ~ x, color = \"blue\") +\n",
    "  labs(title = \"Sedentary Minutes Vs Calories\")\n",
    "\n",
    "\n",
    "(g1|g2) / (g3|g4)"
   ]
  },
  {
   "cell_type": "markdown",
   "metadata": {},
   "source": [
    "##### Note:\n",
    "**Very Active Minutes Vs Calories:**\n",
    "\n",
    "* Shows a strongest positive correlation between very active minutes and calories burned.\n",
    "* As very active minutes increase, there's a clear upward trend in calories burned.\n",
    "\n",
    "**Fairly Active Minutes Vs Calories:**\n",
    "\n",
    "* Displays a moderate positive positive correlation, but less pronounced than very active minutes.\n",
    "* The trend line shows an initial increase in calories burned as fairly active minutes increase, but it plateaus and slightly decreases at higher levels of fairly active minutes.\n",
    "\n",
    "**Lightly Active Minutes Vs Calories:**\n",
    "\n",
    "* Shows a weak positive correlation, and have a minimal impact on calorie burn.\n",
    "* The trend line is nearly flat, indicating that lightly active minutes have a minimal impact on calorie burn.\n",
    "* There's a wide spread of data points, suggesting other factors may be more influential.\n",
    "\n",
    "**Sedentary Minutes Vs Calories:**\n",
    "\n",
    "* Displays an interesting non-linear relationship.\n",
    "* The trend line shows an initial increase in calories burned as sedentary minutes increase up to a point, then a decrease."
   ]
  },
  {
   "cell_type": "code",
   "execution_count": 40,
   "metadata": {},
   "outputs": [
    {
     "data": {
      "image/png": "[encoded data removed]",
      "text/plain": [
       "plot without title"
      ]
     },
     "metadata": {
      "image/png": {
       "height": 420,
       "width": 420
      }
     },
     "output_type": "display_data"
    }
   ],
   "source": [
    "# Summarize the data for creating a visual for distribution of activity minutes \n",
    "activity_summary <- daily_activity1 %>%\n",
    "  summarise(\n",
    "    very_active_minutes = sum(very_active_minutes, na.rm = TRUE),\n",
    "    fairly_active_minutes = sum(fairly_active_minutes, na.rm = TRUE),\n",
    "    lightly_active_minutes = sum(lightly_active_minutes, na.rm = TRUE),\n",
    "    sedentary_minutes = sum(sedentary_minutes, na.rm = TRUE)\n",
    "  )\n",
    "\n",
    "# Convert to long format for ggplot2\n",
    "activity_long <- activity_summary %>%\n",
    "  pivot_longer(cols = everything(), names_to = \"activity\", values_to = \"minutes\")\n",
    "\n",
    "# Create the pie chart\n",
    "ggplot(activity_long, aes(x = \"\", y = minutes, fill = activity)) +\n",
    "  geom_bar(stat = \"identity\", width = 1) +\n",
    "  coord_polar(theta = \"y\") +\n",
    "  labs(title = \"Distribution of Activity Minutes\", x = NULL, y = NULL) +\n",
    "  theme_minimal() +\n",
    "  theme(axis.ticks = element_blank(), \n",
    "        axis.text = element_blank(), \n",
    "        panel.grid = element_blank(), \n",
    "        plot.title = element_text(hjust = 0.5)) +\n",
    "  scale_fill_brewer(palette = \"PuBuGn\")"
   ]
  },
  {
   "cell_type": "markdown",
   "metadata": {},
   "source": [
    "##### Note:\n",
    "* The pie chart shows that sedentary minutes dominate, indicating that users spend a substantial part of their day in sedentary activities. This could be due to office work, screen time, or other low-movement activities.\n",
    "\n",
    "* Following sedentary minutes, lightly active minutes also form a significant part of the chart. This shows that users do engage in some low-intensity activities like casual walking or light household chores."
   ]
  },
  {
   "cell_type": "markdown",
   "metadata": {},
   "source": [
    "### Merging Datasets \n",
    "Next I have merged the daily activity and daily sleep data sets to analyse device usage patterns of the Fitbit users."
   ]
  },
  {
   "cell_type": "code",
   "execution_count": 41,
   "metadata": {},
   "outputs": [
    {
     "data": {
      "text/html": [
       "<table class=\"dataframe\">\n",
       "<caption>A data.frame: 6 × 18</caption>\n",
       "<thead>\n",
       "\t<tr><th></th><th scope=col>id</th><th scope=col>date</th><th scope=col>total_steps</th><th scope=col>total_distance</th><th scope=col>tracker_distance</th><th scope=col>logged_activities_distance</th><th scope=col>very_active_distance</th><th scope=col>moderately_active_distance</th><th scope=col>light_active_distance</th><th scope=col>sedentary_active_distance</th><th scope=col>very_active_minutes</th><th scope=col>fairly_active_minutes</th><th scope=col>lightly_active_minutes</th><th scope=col>sedentary_minutes</th><th scope=col>calories</th><th scope=col>total_sleep_records</th><th scope=col>total_minutes_asleep</th><th scope=col>total_time_in_bed</th></tr>\n",
       "\t<tr><th></th><th scope=col>&lt;dbl&gt;</th><th scope=col>&lt;date&gt;</th><th scope=col>&lt;dbl&gt;</th><th scope=col>&lt;dbl&gt;</th><th scope=col>&lt;dbl&gt;</th><th scope=col>&lt;dbl&gt;</th><th scope=col>&lt;dbl&gt;</th><th scope=col>&lt;dbl&gt;</th><th scope=col>&lt;dbl&gt;</th><th scope=col>&lt;dbl&gt;</th><th scope=col>&lt;dbl&gt;</th><th scope=col>&lt;dbl&gt;</th><th scope=col>&lt;dbl&gt;</th><th scope=col>&lt;dbl&gt;</th><th scope=col>&lt;dbl&gt;</th><th scope=col>&lt;dbl&gt;</th><th scope=col>&lt;dbl&gt;</th><th scope=col>&lt;dbl&gt;</th></tr>\n",
       "</thead>\n",
       "<tbody>\n",
       "\t<tr><th scope=row>1</th><td>1503960366</td><td>2016-04-12</td><td>13162</td><td>8.50</td><td>8.50</td><td>0</td><td>1.88</td><td>0.55</td><td>6.06</td><td>0</td><td>25</td><td>13</td><td>328</td><td>728</td><td>1985</td><td>1</td><td>327</td><td>346</td></tr>\n",
       "\t<tr><th scope=row>2</th><td>1503960366</td><td>2016-04-13</td><td>10735</td><td>6.97</td><td>6.97</td><td>0</td><td>1.57</td><td>0.69</td><td>4.71</td><td>0</td><td>21</td><td>19</td><td>217</td><td>776</td><td>1797</td><td>2</td><td>384</td><td>407</td></tr>\n",
       "\t<tr><th scope=row>3</th><td>1503960366</td><td>2016-04-15</td><td> 9762</td><td>6.28</td><td>6.28</td><td>0</td><td>2.14</td><td>1.26</td><td>2.83</td><td>0</td><td>29</td><td>34</td><td>209</td><td>726</td><td>1745</td><td>1</td><td>412</td><td>442</td></tr>\n",
       "\t<tr><th scope=row>4</th><td>1503960366</td><td>2016-04-16</td><td>12669</td><td>8.16</td><td>8.16</td><td>0</td><td>2.71</td><td>0.41</td><td>5.04</td><td>0</td><td>36</td><td>10</td><td>221</td><td>773</td><td>1863</td><td>2</td><td>340</td><td>367</td></tr>\n",
       "\t<tr><th scope=row>5</th><td>1503960366</td><td>2016-04-17</td><td> 9705</td><td>6.48</td><td>6.48</td><td>0</td><td>3.19</td><td>0.78</td><td>2.51</td><td>0</td><td>38</td><td>20</td><td>164</td><td>539</td><td>1728</td><td>1</td><td>700</td><td>712</td></tr>\n",
       "\t<tr><th scope=row>6</th><td>1503960366</td><td>2016-04-19</td><td>15506</td><td>9.88</td><td>9.88</td><td>0</td><td>3.53</td><td>1.32</td><td>5.03</td><td>0</td><td>50</td><td>31</td><td>264</td><td>775</td><td>2035</td><td>1</td><td>304</td><td>320</td></tr>\n",
       "</tbody>\n",
       "</table>\n"
      ],
      "text/latex": [
       "A data.frame: 6 × 18\n",
       "\\begin{tabular}{r|llllllllllllllllll}\n",
       "  & id & date & total\\_steps & total\\_distance & tracker\\_distance & logged\\_activities\\_distance & very\\_active\\_distance & moderately\\_active\\_distance & light\\_active\\_distance & sedentary\\_active\\_distance & very\\_active\\_minutes & fairly\\_active\\_minutes & lightly\\_active\\_minutes & sedentary\\_minutes & calories & total\\_sleep\\_records & total\\_minutes\\_asleep & total\\_time\\_in\\_bed\\\\\n",
       "  & <dbl> & <date> & <dbl> & <dbl> & <dbl> & <dbl> & <dbl> & <dbl> & <dbl> & <dbl> & <dbl> & <dbl> & <dbl> & <dbl> & <dbl> & <dbl> & <dbl> & <dbl>\\\\\n",
       "\\hline\n",
       "\t1 & 1503960366 & 2016-04-12 & 13162 & 8.50 & 8.50 & 0 & 1.88 & 0.55 & 6.06 & 0 & 25 & 13 & 328 & 728 & 1985 & 1 & 327 & 346\\\\\n",
       "\t2 & 1503960366 & 2016-04-13 & 10735 & 6.97 & 6.97 & 0 & 1.57 & 0.69 & 4.71 & 0 & 21 & 19 & 217 & 776 & 1797 & 2 & 384 & 407\\\\\n",
       "\t3 & 1503960366 & 2016-04-15 &  9762 & 6.28 & 6.28 & 0 & 2.14 & 1.26 & 2.83 & 0 & 29 & 34 & 209 & 726 & 1745 & 1 & 412 & 442\\\\\n",
       "\t4 & 1503960366 & 2016-04-16 & 12669 & 8.16 & 8.16 & 0 & 2.71 & 0.41 & 5.04 & 0 & 36 & 10 & 221 & 773 & 1863 & 2 & 340 & 367\\\\\n",
       "\t5 & 1503960366 & 2016-04-17 &  9705 & 6.48 & 6.48 & 0 & 3.19 & 0.78 & 2.51 & 0 & 38 & 20 & 164 & 539 & 1728 & 1 & 700 & 712\\\\\n",
       "\t6 & 1503960366 & 2016-04-19 & 15506 & 9.88 & 9.88 & 0 & 3.53 & 1.32 & 5.03 & 0 & 50 & 31 & 264 & 775 & 2035 & 1 & 304 & 320\\\\\n",
       "\\end{tabular}\n"
      ],
      "text/markdown": [
       "\n",
       "A data.frame: 6 × 18\n",
       "\n",
       "| <!--/--> | id &lt;dbl&gt; | date &lt;date&gt; | total_steps &lt;dbl&gt; | total_distance &lt;dbl&gt; | tracker_distance &lt;dbl&gt; | logged_activities_distance &lt;dbl&gt; | very_active_distance &lt;dbl&gt; | moderately_active_distance &lt;dbl&gt; | light_active_distance &lt;dbl&gt; | sedentary_active_distance &lt;dbl&gt; | very_active_minutes &lt;dbl&gt; | fairly_active_minutes &lt;dbl&gt; | lightly_active_minutes &lt;dbl&gt; | sedentary_minutes &lt;dbl&gt; | calories &lt;dbl&gt; | total_sleep_records &lt;dbl&gt; | total_minutes_asleep &lt;dbl&gt; | total_time_in_bed &lt;dbl&gt; |\n",
       "|---|---|---|---|---|---|---|---|---|---|---|---|---|---|---|---|---|---|---|\n",
       "| 1 | 1503960366 | 2016-04-12 | 13162 | 8.50 | 8.50 | 0 | 1.88 | 0.55 | 6.06 | 0 | 25 | 13 | 328 | 728 | 1985 | 1 | 327 | 346 |\n",
       "| 2 | 1503960366 | 2016-04-13 | 10735 | 6.97 | 6.97 | 0 | 1.57 | 0.69 | 4.71 | 0 | 21 | 19 | 217 | 776 | 1797 | 2 | 384 | 407 |\n",
       "| 3 | 1503960366 | 2016-04-15 |  9762 | 6.28 | 6.28 | 0 | 2.14 | 1.26 | 2.83 | 0 | 29 | 34 | 209 | 726 | 1745 | 1 | 412 | 442 |\n",
       "| 4 | 1503960366 | 2016-04-16 | 12669 | 8.16 | 8.16 | 0 | 2.71 | 0.41 | 5.04 | 0 | 36 | 10 | 221 | 773 | 1863 | 2 | 340 | 367 |\n",
       "| 5 | 1503960366 | 2016-04-17 |  9705 | 6.48 | 6.48 | 0 | 3.19 | 0.78 | 2.51 | 0 | 38 | 20 | 164 | 539 | 1728 | 1 | 700 | 712 |\n",
       "| 6 | 1503960366 | 2016-04-19 | 15506 | 9.88 | 9.88 | 0 | 3.53 | 1.32 | 5.03 | 0 | 50 | 31 | 264 | 775 | 2035 | 1 | 304 | 320 |\n",
       "\n"
      ],
      "text/plain": [
       "  id         date       total_steps total_distance tracker_distance\n",
       "1 1503960366 2016-04-12 13162       8.50           8.50            \n",
       "2 1503960366 2016-04-13 10735       6.97           6.97            \n",
       "3 1503960366 2016-04-15  9762       6.28           6.28            \n",
       "4 1503960366 2016-04-16 12669       8.16           8.16            \n",
       "5 1503960366 2016-04-17  9705       6.48           6.48            \n",
       "6 1503960366 2016-04-19 15506       9.88           9.88            \n",
       "  logged_activities_distance very_active_distance moderately_active_distance\n",
       "1 0                          1.88                 0.55                      \n",
       "2 0                          1.57                 0.69                      \n",
       "3 0                          2.14                 1.26                      \n",
       "4 0                          2.71                 0.41                      \n",
       "5 0                          3.19                 0.78                      \n",
       "6 0                          3.53                 1.32                      \n",
       "  light_active_distance sedentary_active_distance very_active_minutes\n",
       "1 6.06                  0                         25                 \n",
       "2 4.71                  0                         21                 \n",
       "3 2.83                  0                         29                 \n",
       "4 5.04                  0                         36                 \n",
       "5 2.51                  0                         38                 \n",
       "6 5.03                  0                         50                 \n",
       "  fairly_active_minutes lightly_active_minutes sedentary_minutes calories\n",
       "1 13                    328                    728               1985    \n",
       "2 19                    217                    776               1797    \n",
       "3 34                    209                    726               1745    \n",
       "4 10                    221                    773               1863    \n",
       "5 20                    164                    539               1728    \n",
       "6 31                    264                    775               2035    \n",
       "  total_sleep_records total_minutes_asleep total_time_in_bed\n",
       "1 1                   327                  346              \n",
       "2 2                   384                  407              \n",
       "3 1                   412                  442              \n",
       "4 2                   340                  367              \n",
       "5 1                   700                  712              \n",
       "6 1                   304                  320              "
      ]
     },
     "metadata": {},
     "output_type": "display_data"
    }
   ],
   "source": [
    "daily_activity_sleep <- merge(daily_activity1, daily_sleep1, by=c (\"id\", \"date\"))\n",
    "head(daily_activity_sleep)"
   ]
  },
  {
   "cell_type": "markdown",
   "metadata": {},
   "source": [
    "My aim is to calculate the number of users who use their smart devices daily for the whole month. Next we will classify these users into three categories based on their usage patterns:\n",
    "\n",
    "High Use: Users who use their device between 21 and 31 days.\n",
    "Moderate Use: Users who use their device between 11 and 20 days.\n",
    "Low Use: Users who use their device between 1 and 10 days."
   ]
  },
  {
   "cell_type": "code",
   "execution_count": 42,
   "metadata": {},
   "outputs": [
    {
     "data": {
      "text/html": [
       "<table class=\"dataframe\">\n",
       "<caption>A tibble: 6 × 3</caption>\n",
       "<thead>\n",
       "\t<tr><th scope=col>id</th><th scope=col>days_used</th><th scope=col>usage</th></tr>\n",
       "\t<tr><th scope=col>&lt;dbl&gt;</th><th scope=col>&lt;int&gt;</th><th scope=col>&lt;chr&gt;</th></tr>\n",
       "</thead>\n",
       "<tbody>\n",
       "\t<tr><td>1503960366</td><td>25</td><td>regular use</td></tr>\n",
       "\t<tr><td>1644430081</td><td> 4</td><td>low use    </td></tr>\n",
       "\t<tr><td>1844505072</td><td> 3</td><td>low use    </td></tr>\n",
       "\t<tr><td>1927972279</td><td> 5</td><td>low use    </td></tr>\n",
       "\t<tr><td>2026352035</td><td>28</td><td>regular use</td></tr>\n",
       "\t<tr><td>2320127002</td><td> 1</td><td>low use    </td></tr>\n",
       "</tbody>\n",
       "</table>\n"
      ],
      "text/latex": [
       "A tibble: 6 × 3\n",
       "\\begin{tabular}{lll}\n",
       " id & days\\_used & usage\\\\\n",
       " <dbl> & <int> & <chr>\\\\\n",
       "\\hline\n",
       "\t 1503960366 & 25 & regular use\\\\\n",
       "\t 1644430081 &  4 & low use    \\\\\n",
       "\t 1844505072 &  3 & low use    \\\\\n",
       "\t 1927972279 &  5 & low use    \\\\\n",
       "\t 2026352035 & 28 & regular use\\\\\n",
       "\t 2320127002 &  1 & low use    \\\\\n",
       "\\end{tabular}\n"
      ],
      "text/markdown": [
       "\n",
       "A tibble: 6 × 3\n",
       "\n",
       "| id &lt;dbl&gt; | days_used &lt;int&gt; | usage &lt;chr&gt; |\n",
       "|---|---|---|\n",
       "| 1503960366 | 25 | regular use |\n",
       "| 1644430081 |  4 | low use     |\n",
       "| 1844505072 |  3 | low use     |\n",
       "| 1927972279 |  5 | low use     |\n",
       "| 2026352035 | 28 | regular use |\n",
       "| 2320127002 |  1 | low use     |\n",
       "\n"
      ],
      "text/plain": [
       "  id         days_used usage      \n",
       "1 1503960366 25        regular use\n",
       "2 1644430081  4        low use    \n",
       "3 1844505072  3        low use    \n",
       "4 1927972279  5        low use    \n",
       "5 2026352035 28        regular use\n",
       "6 2320127002  1        low use    "
      ]
     },
     "metadata": {},
     "output_type": "display_data"
    }
   ],
   "source": [
    "daily_use <- daily_activity_sleep %>%\n",
    "  group_by(id) %>%\n",
    "  summarize(days_used=sum(n())) %>%\n",
    "  mutate(usage = case_when(\n",
    "    days_used >= 1 & days_used <= 10 ~ \"low use\",\n",
    "    days_used >= 11 & days_used <= 20 ~ \"frequent use\", \n",
    "    days_used >= 21 & days_used <= 31 ~ \"regular use\", \n",
    "  ))\n",
    "  \n",
    "head(daily_use)"
   ]
  },
  {
   "cell_type": "code",
   "execution_count": 43,
   "metadata": {},
   "outputs": [
    {
     "data": {
      "image/png": "[encoded data removed]",
      "text/plain": [
       "plot without title"
      ]
     },
     "metadata": {
      "image/png": {
       "height": 420,
       "width": 420
      }
     },
     "output_type": "display_data"
    }
   ],
   "source": [
    "# Count the number of users in each usage category\n",
    "usage_counts <- daily_use %>%\n",
    "  group_by(usage) %>%\n",
    "  summarize(user_count = n())\n",
    "\n",
    "# Calculate proportions\n",
    "usage_counts <- usage_counts %>%\n",
    "  mutate(proportion = user_count / sum(user_count) * 100)\n",
    "\n",
    "# Plotting\n",
    "ggplot(usage_counts, aes(x = \"\", y = proportion, fill = usage)) +\n",
    "  geom_bar(width = 1, stat = \"identity\", color = \"black\") +\n",
    "  coord_polar(theta = \"y\") +\n",
    "  labs(title = \"Proportion of Users by Daily Use Category\") +\n",
    "  theme_minimal() +\n",
    "  scale_fill_manual(values = c(\"low use\" = \"orange\", \"frequent use\" = \"yellow\", \"regular use\" = \"brown\")) +\n",
    "  theme(axis.text.x = element_blank()) + # Removes x-axis labels\n",
    "  geom_text(aes(label = paste0(round(proportion, 1), \"%\")), position = position_stack(vjust = 0.5))"
   ]
  },
  {
   "cell_type": "markdown",
   "metadata": {},
   "source": [
    "##### Note:\n",
    "* Nearly half (45.8%) of our sample users engage with their devices frequently, using them between 21 to 31 days per month. \n",
    "\n",
    "* A smaller portion (12.5%) uses their devices moderately, accessing them 11 to 20 days monthly.\n",
    "\n",
    "* The remaining 37.5% of our sample rarely use their devices.\n",
    "\n",
    "* 4.2 users have never used the device."
   ]
  },
  {
   "cell_type": "markdown",
   "metadata": {},
   "source": [
    "## Conclusion \n",
    "\n",
    "#### Answring Business Questions\n",
    "**1. Trends in smart device usage:**\n",
    "\n",
    "The analysis reveals that nearly half of the users engage with their devices frequently, indicating strong user engagement. However, a significant portion of users rarely use their devices or have never used them, pointing to a potential gap in engagement. Users spend a substantial part of their day in sedentary activities, which could be attributed to office work or other low-movement activities. \n",
    "\n",
    "**2. Trends applicability to Bellabeat customers:**\n",
    "\n",
    "It is important to note that the dataset lacks demographic information such as age and gender. Since Bellabeat is a woman-centric company, this limitation means that while the trends observed can provide valuable insights, their applicability to Bellabeat's target audience may be somewhat constrained. Despite this, the general activity patterns and usage trends can still offer meaningful direction for product and marketing strategies.\n",
    "\n",
    "These trends provide insights into their daily routines and activity levels. The frequent engagement of a significant user segment suggests that customers find value in the devices. The high amount of sedentary time and low levels of very active minutes indicate an opportunity for Bellabeat to encourage more active lifestyles.\n",
    "\n",
    "**3. Trends influencing Bellabeat marketing strategy:**\n",
    "\n",
    "Campaigns can be designed to appeal to frequent users by highlighting advanced features and new product updates, while less engaged users can be encouraged through health benefits and integration tips. Timing content delivery around peak activity periods (lunchtime and evening) can increase engagement. \n",
    "\n",
    "Marketing messages should emphasise the benefits of increased physical activity, collaborating with fitness influencers to demonstrate product effectiveness. Additionally, educational content addressing sedentary behavior and promoting wellness can position Bellabeat as a leader in women’s health and wellness."
   ]
  },
  {
   "cell_type": "markdown",
   "metadata": {},
   "source": [
    "## Task 6: Act (Recommendations)\n",
    "\n",
    "### Marketing Strategy: \n",
    "\n",
    "**1. Encourage movement:** Initiate programs and notifications to remind users to move regularly throughout the day to reduce sedentary behavior.\n",
    "\n",
    "**2. Educational content:** Provide educational content highlighting the health benefits of high-intensity activities and how users can incorporate them into their daily routines.\n",
    "\n",
    "**3. Promote active breaks:** Encourage users to take short breaks from sedentary behavior throughout the day to increase their very active minutes. Use the data to educate users on the health risks of prolonged sedentary behavior.\n",
    "\n",
    "**4. Activity challenges:** Create challenges or rewards for achieving higher active minutes, especially focusing on increasing very active and fairly active minutes.\n",
    "\n",
    "**5. Personalised activity plans:** Use the data to offer tailored recommendations based on users' current activity patterns to help them gradually increase their active minutes.\n",
    "\n",
    "**6. Improve Sleep Quality:** Promote healthy sleep habits to ensure users get adequate sleep duration and quality. Consider providing tips for better sleep hygiene.\n",
    "\n",
    "**7. Promote product features:** Highlight Bellabeat's standout product features, such as the 8-day long-lasting battery life, hypoallergenic materials, and waterproof design. Regularly remind customers of these benefits to encourage consistent device usage."
   ]
  },
  {
   "cell_type": "markdown",
   "metadata": {},
   "source": [
    "### Product Strategy: (New Growth Opportunities) \n",
    "\n",
    "#### 1. Expand Product Variety and Customisation\n",
    "\n",
    "* **1.1 Fashionable Designs:** Introduce more fashion-forward designs with a variety of colors and        styles. Given that only 45.8% of users engage frequently with their devices, appealing to           different tastes and preferences could increase daily wear.\n",
    "\n",
    "* **1.2 Removable Straps:** Offer interchangeable straps to allow users to customise their devices for different occasions, from casual to formal settings. This would make the device more versatile and appealing as a daily accessory.\n",
    "\n",
    "* **1.3 Special Editions:** Create limited edition designs and collaborate with fashion and fitness influencers to attract trend-conscious customers.\n",
    "\n",
    "#### 2. Enhance User Engagement Features\n",
    "\n",
    "* **2.1 Activity Challenges:** Introduce gamified challenges and rewards to encourage more frequent use and increased activity. For example, users could earn points or badges for meeting daily step goals or active minutes.\n",
    "\n",
    "* **2.2 Interactive Notifications:** Develop interactive notifications that encourage users to move, stretch, or engage in brief exercises throughout the day, especially during peak sedentary times.\n",
    "\n",
    " ***Interactive Notification Examples:***\n",
    "\n",
    "*     Morning Reminder\n",
    "\n",
    "      Time: 9:00 AM\n",
    "  \n",
    "      Notification: \"Good morning, Aish! Start your day with some light stretches to boost your           energy. Tap here for a 5-minute stretching routine.\"\n",
    "\n",
    "      Interaction: When Aish taps the notification, a guided 5-minute stretching video is displayed       on her Bellabeat app.\n",
    "\n",
    "* Mid-day Break\n",
    "\n",
    "   Time: 11:00 AM\n",
    "  \n",
    "   Notification: \"Hey Aish, it’s time to move! A 2-minute walk can refresh your mind. Tap here to      start a quick walking session.\"\n",
    "\n",
    "   Interaction: Tapping the notification starts a 2-minute timer and tracks Aish's steps. A            cheerful message appears at the end, congratulating her on her activity.\n",
    "\n",
    "* Lunch Break\n",
    "\n",
    "   Time: 12:30 PM\n",
    "   \n",
    "   Notification: \"Lunchtime is a great opportunity to get active! How about a 10-minute walk? Tap      here for a fun walking playlist.\"\n",
    "\n",
    "   Interaction: Tapping opens a curated music playlist for walking or an audio-guided walking          session, encouraging Aish to move.\n",
    "\n",
    "* **2.3 Interactive In-App Features:** Enhance the Bellabeat app with interactive features like virtual fitness classes, real-time coaching, and progress tracking. This makes the app a central hub for users’ fitness and wellness journeys.\n",
    "\n",
    "#### 3. Improve Customer Experience\n",
    "\n",
    "* **3.1 User Feedback Loop:** Establish a feedback loop where customers can share their experiences and suggest new features or designs. This can help Bellabeat stay attuned to customer preferences and continually improve their products.\n",
    "\n",
    "* **3.2 Comprehensive Support:** Provide comprehensive customer support and resources, such as setup guides, how-to videos, and troubleshooting tips, to ensure users can easily integrate the devices into their daily lives."
   ]
  },
  {
   "cell_type": "markdown",
   "metadata": {},
   "source": [
    "### Key Ideas To Executive Team:\n",
    "\n",
    "* Study Generational Preferences: Conduct market research to understand diverse fashion preferences of Gen Z and Millennials. Tailor product designs and marketing strategies to meet these preferences effectively.\n",
    "\n",
    "* Integrate with Popular Apps: Develop integrations with popular fitness and wellness apps, allowing users to sync their Bellabeat data seamlessly with platforms they already use and trust. This enhances user convenience and expands the ecosystem of Bellabeat.\n",
    "\n",
    "* Holistic Health Integration: Expand the device’s functionality to include holistic health features such as stress management, individual's disease tracking and management, and skin concerns and diet to improve skin health, catering to the comprehensive wellness needs of women.\n",
    "\n",
    "* Sustainability Initiatives: Emphasise sustainability in product design and packaging. Offer eco-friendly materials and promote recycling programs to attract environmentally conscious consumers and enhance the brand’s image as socially responsible.\n",
    "\n",
    "* Enhanced Data Privacy: Strengthen data privacy measures and clearly communicate these efforts to users. Given the increasing concern over data security, this can build trust and differentiate Bellabeat from competitors.\n",
    "\n",
    "* Community Building: Foster a strong community around Bellabeat products through social media groups, forums, and events. Encouraging users to share their experiences and support each other can increase brand loyalty and user engagement."
   ]
  },
  {
   "cell_type": "markdown",
   "metadata": {},
   "source": [
    "**This is my first project, thank you for taking the time to go through it. Please feel free to give any suggestions and feedback.** "
   ]
  }
 ],
 "metadata": {
  "kaggle": {
   "accelerator": "none",
   "dataSources": [
    {
     "datasetId": 1041311,
     "sourceId": 7746251,
     "sourceType": "datasetVersion"
    }
   ],
   "dockerImageVersionId": 30749,
   "isGpuEnabled": false,
   "isInternetEnabled": false,
   "language": "r",
   "sourceType": "notebook"
  },
  "kernelspec": {
   "display_name": "R",
   "language": "R",
   "name": "ir"
  },
  "language_info": {
   "codemirror_mode": "r",
   "file_extension": ".r",
   "mimetype": "text/x-r-source",
   "name": "R",
   "pygments_lexer": "r",
   "version": "4.4.1"
  }
 },
 "nbformat": 4,
 "nbformat_minor": 4
}
